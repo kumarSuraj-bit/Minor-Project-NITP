{
 "cells": [
  {
   "cell_type": "code",
   "execution_count": null,
   "metadata": {},
   "outputs": [],
   "source": [
    "# see log in tensor_board\n",
    "\n",
    "log_dir = \"logs/fit/\" + datetime.datetime.now().strftime(\"%Y%m%d-%H%M%S\")\n",
    "tensorboard_callback = tf.keras.callbacks.TensorBoard(log_dir=log_dir, histogram_freq=1)\n",
    "\n",
    "model.fit(x=x_train, \n",
    "          y=y_train, \n",
    "          epochs=5, \n",
    "          validation_data=(x_test, y_test), \n",
    "          callbacks=[tensorboard_callback]\n",
    "         )"
   ]
  },
  {
   "cell_type": "code",
   "execution_count": null,
   "metadata": {},
   "outputs": [],
   "source": [
    "def batch_generator(X_train, y_train, batch_size):\n",
    "    \"\"\"\n",
    "    Generate training image give image paths and associated steering angles\n",
    "    \"\"\"\n",
    "    images = np.empty([batch_size, IMAGE_HEIGHT, IMAGE_WIDTH, IMAGE_CHANNELS])\n",
    "    steers = np.empty(batch_size)\n",
    "    #print(X_train.shape)\n",
    "    while 1:\n",
    "        n=0\n",
    "        for index in np.random.permutation(X_train.shape[0]):\n",
    "        \n",
    "            center, left, right = X_train[index]\n",
    "            steering_angle = y_train[index]\n",
    "            \n",
    "            # Preprocess\n",
    "            image = Preprocess(center)\n",
    "                \n",
    "            # add the image and steering angle to the batch\n",
    "            images[n] = preprocess(image)\n",
    "            steers[n] = steering_angle\n",
    "            n+=1\n",
    "            if n == batch_size:\n",
    "                break\n",
    "        #print(images[0].shape)\n",
    "        yield (images, steers)\n",
    "            "
   ]
  },
  {
   "cell_type": "code",
   "execution_count": null,
   "metadata": {},
   "outputs": [],
   "source": [
    "def train_model(model, data):\n",
    "    \"\"\"\n",
    "    Train the model\n",
    "    \"\"\"\n",
    "    #Saves the model after every epoch.\n",
    "    #quantity to monitor, verbosity i.e logging mode (0 or 1), \n",
    "    #if save_best_only is true the latest best model according to the quantity monitored will not be overwritten.\n",
    "    #mode: one of {auto, min, max}. If save_best_only=True, the decision to overwrite the current save file is\n",
    "    \n",
    "    checkpoint = ModelCheckpoint('model-{epoch:03d}.h5',\n",
    "                                 monitor='loss',\n",
    "                                 verbose=0,\n",
    "                                 save_best_only=True,\n",
    "                                 mode='auto')\n",
    "\n",
    "    model.compile(loss='mean_squared_error', optimizer='Adam',metrics=['accuracy'])\n",
    "    \n",
    "    X_train, X_valid, y_train, y_valid = data\n",
    "    \n",
    "    batch_size = 10\n",
    "    steps = X_train.shape[0]//batch_size\n",
    "    \n",
    "    #Fits the model on data generated batch-by-batch by a Python generator.\n",
    "    generator = batch_generator(X_train, y_train, batch_size=10)\n",
    "    \n",
    "    model.fit(\n",
    "                generator,\n",
    "                epochs = 30,\n",
    "                steps_per_epoch=steps,\n",
    "                #validation_data=batch_generator(X_valid, y_valid, batch_size=10),\n",
    "                #callbacks=[checkpoint],\n",
    "             )\n",
    "    return model"
   ]
  }
 ],
 "metadata": {
  "kernelspec": {
   "display_name": "Python 3",
   "language": "python",
   "name": "python3"
  },
  "language_info": {
   "codemirror_mode": {
    "name": "ipython",
    "version": 3
   },
   "file_extension": ".py",
   "mimetype": "text/x-python",
   "name": "python",
   "nbconvert_exporter": "python",
   "pygments_lexer": "ipython3",
   "version": "3.8.5"
  }
 },
 "nbformat": 4,
 "nbformat_minor": 4
}
