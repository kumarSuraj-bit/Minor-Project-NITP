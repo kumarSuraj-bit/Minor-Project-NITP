{
 "cells": [
  {
   "cell_type": "markdown",
   "metadata": {},
   "source": [
    "## Importing Important packages"
   ]
  },
  {
   "cell_type": "code",
   "execution_count": 1,
   "metadata": {},
   "outputs": [],
   "source": [
    "import pandas as pd\n",
    "import numpy as np\n",
    "import matplotlib.pyplot as plt\n",
    "import matplotlib.image as mpimg\n",
    "%matplotlib inline\n",
    "import cv2\n",
    "\n",
    "from sklearn.model_selection import train_test_split\n",
    "\n",
    "import tensorflow as tf\n",
    "from tensorflow import keras\n",
    "from tensorflow.keras.models import Sequential\n",
    "from tensorflow.keras.optimizers import Adam\n",
    "from tensorflow.keras.callbacks import ModelCheckpoint\n",
    "from tensorflow.keras.layers import Lambda, Conv2D, MaxPooling2D, Dropout, Dense, Flatten, BatchNormalization\n",
    "from tensorflow.keras.utils import plot_model\n",
    "from keras.models import load_model\n",
    "\n",
    "import os #for reading files"
   ]
  },
  {
   "cell_type": "markdown",
   "metadata": {},
   "source": [
    "Activating the GPU for fast Training"
   ]
  },
  {
   "cell_type": "code",
   "execution_count": 2,
   "metadata": {},
   "outputs": [],
   "source": [
    "physical_device = tf.config.list_physical_devices(\"GPU\")\n",
    "tf.config.experimental.set_memory_growth(physical_device[0],True)"
   ]
  },
  {
   "cell_type": "markdown",
   "metadata": {},
   "source": [
    "## Data Loading and Prepare it to feed in model"
   ]
  },
  {
   "cell_type": "code",
   "execution_count": 3,
   "metadata": {},
   "outputs": [],
   "source": [
    "data = pd.read_csv('driving_log_hard.csv',names=['center', 'left', 'right', 'steering', 'throttle', 'reverse', 'speed'])"
   ]
  },
  {
   "cell_type": "code",
   "execution_count": 4,
   "metadata": {},
   "outputs": [
    {
     "data": {
      "text/plain": [
       "(2421, 7)"
      ]
     },
     "execution_count": 4,
     "metadata": {},
     "output_type": "execute_result"
    }
   ],
   "source": [
    "data.shape"
   ]
  },
  {
   "cell_type": "code",
   "execution_count": 5,
   "metadata": {},
   "outputs": [
    {
     "data": {
      "text/html": [
       "<div>\n",
       "<style scoped>\n",
       "    .dataframe tbody tr th:only-of-type {\n",
       "        vertical-align: middle;\n",
       "    }\n",
       "\n",
       "    .dataframe tbody tr th {\n",
       "        vertical-align: top;\n",
       "    }\n",
       "\n",
       "    .dataframe thead th {\n",
       "        text-align: right;\n",
       "    }\n",
       "</style>\n",
       "<table border=\"1\" class=\"dataframe\">\n",
       "  <thead>\n",
       "    <tr style=\"text-align: right;\">\n",
       "      <th></th>\n",
       "      <th>center</th>\n",
       "      <th>left</th>\n",
       "      <th>right</th>\n",
       "      <th>steering</th>\n",
       "      <th>throttle</th>\n",
       "      <th>reverse</th>\n",
       "      <th>speed</th>\n",
       "    </tr>\n",
       "  </thead>\n",
       "  <tbody>\n",
       "    <tr>\n",
       "      <th>0</th>\n",
       "      <td>C:\\Users\\suraj\\Desktop\\MinorProjectNITP2022\\IM...</td>\n",
       "      <td>C:\\Users\\suraj\\Desktop\\MinorProjectNITP2022\\IM...</td>\n",
       "      <td>C:\\Users\\suraj\\Desktop\\MinorProjectNITP2022\\IM...</td>\n",
       "      <td>0.0</td>\n",
       "      <td>0.0</td>\n",
       "      <td>0.0</td>\n",
       "      <td>0.000130</td>\n",
       "    </tr>\n",
       "    <tr>\n",
       "      <th>1</th>\n",
       "      <td>C:\\Users\\suraj\\Desktop\\MinorProjectNITP2022\\IM...</td>\n",
       "      <td>C:\\Users\\suraj\\Desktop\\MinorProjectNITP2022\\IM...</td>\n",
       "      <td>C:\\Users\\suraj\\Desktop\\MinorProjectNITP2022\\IM...</td>\n",
       "      <td>0.0</td>\n",
       "      <td>0.0</td>\n",
       "      <td>0.0</td>\n",
       "      <td>0.000150</td>\n",
       "    </tr>\n",
       "    <tr>\n",
       "      <th>2</th>\n",
       "      <td>C:\\Users\\suraj\\Desktop\\MinorProjectNITP2022\\IM...</td>\n",
       "      <td>C:\\Users\\suraj\\Desktop\\MinorProjectNITP2022\\IM...</td>\n",
       "      <td>C:\\Users\\suraj\\Desktop\\MinorProjectNITP2022\\IM...</td>\n",
       "      <td>0.0</td>\n",
       "      <td>0.0</td>\n",
       "      <td>0.0</td>\n",
       "      <td>0.000160</td>\n",
       "    </tr>\n",
       "    <tr>\n",
       "      <th>3</th>\n",
       "      <td>C:\\Users\\suraj\\Desktop\\MinorProjectNITP2022\\IM...</td>\n",
       "      <td>C:\\Users\\suraj\\Desktop\\MinorProjectNITP2022\\IM...</td>\n",
       "      <td>C:\\Users\\suraj\\Desktop\\MinorProjectNITP2022\\IM...</td>\n",
       "      <td>0.0</td>\n",
       "      <td>0.0</td>\n",
       "      <td>0.0</td>\n",
       "      <td>0.000204</td>\n",
       "    </tr>\n",
       "    <tr>\n",
       "      <th>4</th>\n",
       "      <td>C:\\Users\\suraj\\Desktop\\MinorProjectNITP2022\\IM...</td>\n",
       "      <td>C:\\Users\\suraj\\Desktop\\MinorProjectNITP2022\\IM...</td>\n",
       "      <td>C:\\Users\\suraj\\Desktop\\MinorProjectNITP2022\\IM...</td>\n",
       "      <td>0.0</td>\n",
       "      <td>0.0</td>\n",
       "      <td>0.0</td>\n",
       "      <td>0.000294</td>\n",
       "    </tr>\n",
       "    <tr>\n",
       "      <th>...</th>\n",
       "      <td>...</td>\n",
       "      <td>...</td>\n",
       "      <td>...</td>\n",
       "      <td>...</td>\n",
       "      <td>...</td>\n",
       "      <td>...</td>\n",
       "      <td>...</td>\n",
       "    </tr>\n",
       "    <tr>\n",
       "      <th>2416</th>\n",
       "      <td>C:\\Users\\suraj\\Desktop\\MinorProjectNITP2022\\IM...</td>\n",
       "      <td>C:\\Users\\suraj\\Desktop\\MinorProjectNITP2022\\IM...</td>\n",
       "      <td>C:\\Users\\suraj\\Desktop\\MinorProjectNITP2022\\IM...</td>\n",
       "      <td>0.0</td>\n",
       "      <td>0.0</td>\n",
       "      <td>0.0</td>\n",
       "      <td>21.233260</td>\n",
       "    </tr>\n",
       "    <tr>\n",
       "      <th>2417</th>\n",
       "      <td>C:\\Users\\suraj\\Desktop\\MinorProjectNITP2022\\IM...</td>\n",
       "      <td>C:\\Users\\suraj\\Desktop\\MinorProjectNITP2022\\IM...</td>\n",
       "      <td>C:\\Users\\suraj\\Desktop\\MinorProjectNITP2022\\IM...</td>\n",
       "      <td>0.0</td>\n",
       "      <td>0.0</td>\n",
       "      <td>0.0</td>\n",
       "      <td>20.766050</td>\n",
       "    </tr>\n",
       "    <tr>\n",
       "      <th>2418</th>\n",
       "      <td>C:\\Users\\suraj\\Desktop\\MinorProjectNITP2022\\IM...</td>\n",
       "      <td>C:\\Users\\suraj\\Desktop\\MinorProjectNITP2022\\IM...</td>\n",
       "      <td>C:\\Users\\suraj\\Desktop\\MinorProjectNITP2022\\IM...</td>\n",
       "      <td>0.0</td>\n",
       "      <td>0.0</td>\n",
       "      <td>0.0</td>\n",
       "      <td>20.308270</td>\n",
       "    </tr>\n",
       "    <tr>\n",
       "      <th>2419</th>\n",
       "      <td>C:\\Users\\suraj\\Desktop\\MinorProjectNITP2022\\IM...</td>\n",
       "      <td>C:\\Users\\suraj\\Desktop\\MinorProjectNITP2022\\IM...</td>\n",
       "      <td>C:\\Users\\suraj\\Desktop\\MinorProjectNITP2022\\IM...</td>\n",
       "      <td>0.0</td>\n",
       "      <td>0.0</td>\n",
       "      <td>0.0</td>\n",
       "      <td>19.723300</td>\n",
       "    </tr>\n",
       "    <tr>\n",
       "      <th>2420</th>\n",
       "      <td>C:\\Users\\suraj\\Desktop\\MinorProjectNITP2022\\IM...</td>\n",
       "      <td>C:\\Users\\suraj\\Desktop\\MinorProjectNITP2022\\IM...</td>\n",
       "      <td>C:\\Users\\suraj\\Desktop\\MinorProjectNITP2022\\IM...</td>\n",
       "      <td>0.0</td>\n",
       "      <td>0.0</td>\n",
       "      <td>0.0</td>\n",
       "      <td>19.315330</td>\n",
       "    </tr>\n",
       "  </tbody>\n",
       "</table>\n",
       "<p>2421 rows × 7 columns</p>\n",
       "</div>"
      ],
      "text/plain": [
       "                                                 center  \\\n",
       "0     C:\\Users\\suraj\\Desktop\\MinorProjectNITP2022\\IM...   \n",
       "1     C:\\Users\\suraj\\Desktop\\MinorProjectNITP2022\\IM...   \n",
       "2     C:\\Users\\suraj\\Desktop\\MinorProjectNITP2022\\IM...   \n",
       "3     C:\\Users\\suraj\\Desktop\\MinorProjectNITP2022\\IM...   \n",
       "4     C:\\Users\\suraj\\Desktop\\MinorProjectNITP2022\\IM...   \n",
       "...                                                 ...   \n",
       "2416  C:\\Users\\suraj\\Desktop\\MinorProjectNITP2022\\IM...   \n",
       "2417  C:\\Users\\suraj\\Desktop\\MinorProjectNITP2022\\IM...   \n",
       "2418  C:\\Users\\suraj\\Desktop\\MinorProjectNITP2022\\IM...   \n",
       "2419  C:\\Users\\suraj\\Desktop\\MinorProjectNITP2022\\IM...   \n",
       "2420  C:\\Users\\suraj\\Desktop\\MinorProjectNITP2022\\IM...   \n",
       "\n",
       "                                                   left  \\\n",
       "0     C:\\Users\\suraj\\Desktop\\MinorProjectNITP2022\\IM...   \n",
       "1     C:\\Users\\suraj\\Desktop\\MinorProjectNITP2022\\IM...   \n",
       "2     C:\\Users\\suraj\\Desktop\\MinorProjectNITP2022\\IM...   \n",
       "3     C:\\Users\\suraj\\Desktop\\MinorProjectNITP2022\\IM...   \n",
       "4     C:\\Users\\suraj\\Desktop\\MinorProjectNITP2022\\IM...   \n",
       "...                                                 ...   \n",
       "2416  C:\\Users\\suraj\\Desktop\\MinorProjectNITP2022\\IM...   \n",
       "2417  C:\\Users\\suraj\\Desktop\\MinorProjectNITP2022\\IM...   \n",
       "2418  C:\\Users\\suraj\\Desktop\\MinorProjectNITP2022\\IM...   \n",
       "2419  C:\\Users\\suraj\\Desktop\\MinorProjectNITP2022\\IM...   \n",
       "2420  C:\\Users\\suraj\\Desktop\\MinorProjectNITP2022\\IM...   \n",
       "\n",
       "                                                  right  steering  throttle  \\\n",
       "0     C:\\Users\\suraj\\Desktop\\MinorProjectNITP2022\\IM...       0.0       0.0   \n",
       "1     C:\\Users\\suraj\\Desktop\\MinorProjectNITP2022\\IM...       0.0       0.0   \n",
       "2     C:\\Users\\suraj\\Desktop\\MinorProjectNITP2022\\IM...       0.0       0.0   \n",
       "3     C:\\Users\\suraj\\Desktop\\MinorProjectNITP2022\\IM...       0.0       0.0   \n",
       "4     C:\\Users\\suraj\\Desktop\\MinorProjectNITP2022\\IM...       0.0       0.0   \n",
       "...                                                 ...       ...       ...   \n",
       "2416  C:\\Users\\suraj\\Desktop\\MinorProjectNITP2022\\IM...       0.0       0.0   \n",
       "2417  C:\\Users\\suraj\\Desktop\\MinorProjectNITP2022\\IM...       0.0       0.0   \n",
       "2418  C:\\Users\\suraj\\Desktop\\MinorProjectNITP2022\\IM...       0.0       0.0   \n",
       "2419  C:\\Users\\suraj\\Desktop\\MinorProjectNITP2022\\IM...       0.0       0.0   \n",
       "2420  C:\\Users\\suraj\\Desktop\\MinorProjectNITP2022\\IM...       0.0       0.0   \n",
       "\n",
       "      reverse      speed  \n",
       "0         0.0   0.000130  \n",
       "1         0.0   0.000150  \n",
       "2         0.0   0.000160  \n",
       "3         0.0   0.000204  \n",
       "4         0.0   0.000294  \n",
       "...       ...        ...  \n",
       "2416      0.0  21.233260  \n",
       "2417      0.0  20.766050  \n",
       "2418      0.0  20.308270  \n",
       "2419      0.0  19.723300  \n",
       "2420      0.0  19.315330  \n",
       "\n",
       "[2421 rows x 7 columns]"
      ]
     },
     "execution_count": 5,
     "metadata": {},
     "output_type": "execute_result"
    }
   ],
   "source": [
    "data"
   ]
  },
  {
   "cell_type": "code",
   "execution_count": 4,
   "metadata": {},
   "outputs": [],
   "source": [
    "X = data[['center', 'left', 'right']].values\n",
    "\n",
    "y = data['steering'].values"
   ]
  },
  {
   "cell_type": "markdown",
   "metadata": {},
   "source": [
    "# Model Architecture"
   ]
  },
  {
   "cell_type": "code",
   "execution_count": 5,
   "metadata": {},
   "outputs": [],
   "source": [
    "IMAGE_HEIGHT, IMAGE_WIDTH, IMAGE_CHANNELS = 160, 320, 3\n",
    "INPUT_SHAPE = (IMAGE_HEIGHT, IMAGE_WIDTH, IMAGE_CHANNELS)"
   ]
  },
  {
   "cell_type": "code",
   "execution_count": 14,
   "metadata": {},
   "outputs": [],
   "source": [
    "def build_model():\n",
    "    \n",
    "    model = Sequential()\n",
    "    \n",
    "    model.add(Conv2D(24, 5, 5, activation='elu', padding = 'same',input_shape=INPUT_SHAPE))\n",
    "\n",
    "    # We have a series of 3 5x5 convolutional layers with a stride of 2x2\n",
    "    model.add(Conv2D(24, 5, 5, activation='relu', padding = 'same'))\n",
    "    model.add(BatchNormalization())\n",
    "\n",
    "    model.add(Conv2D(36, 5, 5,  activation='relu', padding = 'same'))\n",
    "    model.add(BatchNormalization())\n",
    "\n",
    "    model.add(Conv2D(48, 5, 5,  activation='relu', padding = 'same'))    \n",
    "    model.add(BatchNormalization())\n",
    "\n",
    "    \n",
    "    # This is then followed by 2 3x3 convolutional layers with a 1x1 stride\n",
    "    model.add(Conv2D(64, 3, 3, activation='relu', padding = 'same')) \n",
    "    model.add(BatchNormalization())\n",
    "\n",
    "    model.add(Conv2D(64, 3, 3, activation='relu', padding = 'same')) \n",
    "    model.add(BatchNormalization())\n",
    "    \n",
    "    # Flattening the output of last convolutional layer before entering fully connected phase\n",
    "    model.add(Flatten())\n",
    "    \n",
    "    # Fully connected layers\n",
    "    model.add(Dense(1164, activation='relu'))\n",
    "    model.add(BatchNormalization())\n",
    "    \n",
    "    model.add(Dense(200, activation='relu'))\n",
    "    model.add(BatchNormalization())\n",
    "    \n",
    "    model.add(Dense(50, activation='relu'))\n",
    "    model.add(BatchNormalization())\n",
    "    \n",
    "    model.add(Dense(10, activation='relu'))\n",
    "    model.add(BatchNormalization())\n",
    "    \n",
    "    # Output layer\n",
    "    model.add(Dense(1))\n",
    "    \n",
    "    model.summary()\n",
    "    \n",
    "    plot_model(model, show_shapes=True, to_file='model_v4.png')\n",
    "    \n",
    "    return model"
   ]
  },
  {
   "cell_type": "code",
   "execution_count": 6,
   "metadata": {},
   "outputs": [],
   "source": [
    "def Preprocess(image):\n",
    "    \n",
    "    image = mpimg.imread(image) #Load RGB images from a file\n",
    "    image = cv2.cvtColor(image, cv2.COLOR_RGB2YUV) # Convert the image from RGB to YUV (This is what the NVIDIA model does)\n",
    "    #image = image/255 # normalize pixels value between 0 & 1\n",
    "    return image"
   ]
  },
  {
   "cell_type": "code",
   "execution_count": 5,
   "metadata": {},
   "outputs": [],
   "source": [
    "def batch_generator(X_train, y_train, batch_size):\n",
    "    \"\"\"\n",
    "    Generate training image and associated steering angles\n",
    "    \"\"\"\n",
    "    images = list()\n",
    "    steers = list()\n",
    "\n",
    "    while 1:\n",
    "        batch_count = 0\n",
    "        for index in range(X_train.shape[0]):\n",
    "        \n",
    "            center, left, right = X_train[index]\n",
    "            steering_angle = y_train[index]\n",
    "            \n",
    "            # image preprocess\n",
    "            center_image = Preprocess(center)\n",
    "            left_image = Preprocess(left)\n",
    "            right_image = Preprocess(right)\n",
    "                \n",
    "            #add the image and steering angle to the batch\n",
    "            images.append(center_image)\n",
    "            images.append(left_image)\n",
    "            images.append(right_image)\n",
    "            \n",
    "            steers.append(steering_angle)\n",
    "            steers.append(steering_angle+0.025)\n",
    "            steers.append(steering_angle-0.025)\n",
    "            \n",
    "            batch_count = batch_count + 1\n",
    "            \n",
    "            if batch_count == batch_size:\n",
    "                batch_count = 0\n",
    "                yield (np.array(images),np.array(steers))\n",
    "                images = list() \n",
    "                steers = list()\n",
    "            "
   ]
  },
  {
   "cell_type": "code",
   "execution_count": null,
   "metadata": {},
   "outputs": [],
   "source": []
  },
  {
   "cell_type": "code",
   "execution_count": 17,
   "metadata": {},
   "outputs": [],
   "source": [
    "#generator = batch_generator(X_train, y_train, batch_size = 10)"
   ]
  },
  {
   "cell_type": "code",
   "execution_count": 18,
   "metadata": {},
   "outputs": [],
   "source": [
    "#print(next(generator))"
   ]
  },
  {
   "cell_type": "code",
   "execution_count": 15,
   "metadata": {},
   "outputs": [
    {
     "name": "stdout",
     "output_type": "stream",
     "text": [
      "Model: \"sequential_2\"\n",
      "_________________________________________________________________\n",
      "Layer (type)                 Output Shape              Param #   \n",
      "=================================================================\n",
      "conv2d_8 (Conv2D)            (None, 32, 64, 24)        1824      \n",
      "_________________________________________________________________\n",
      "conv2d_9 (Conv2D)            (None, 7, 13, 24)         14424     \n",
      "_________________________________________________________________\n",
      "batch_normalization_9 (Batch (None, 7, 13, 24)         96        \n",
      "_________________________________________________________________\n",
      "conv2d_10 (Conv2D)           (None, 2, 3, 36)          21636     \n",
      "_________________________________________________________________\n",
      "batch_normalization_10 (Batc (None, 2, 3, 36)          144       \n",
      "_________________________________________________________________\n",
      "conv2d_11 (Conv2D)           (None, 1, 1, 48)          43248     \n",
      "_________________________________________________________________\n",
      "batch_normalization_11 (Batc (None, 1, 1, 48)          192       \n",
      "_________________________________________________________________\n",
      "conv2d_12 (Conv2D)           (None, 1, 1, 64)          27712     \n",
      "_________________________________________________________________\n",
      "batch_normalization_12 (Batc (None, 1, 1, 64)          256       \n",
      "_________________________________________________________________\n",
      "conv2d_13 (Conv2D)           (None, 1, 1, 64)          36928     \n",
      "_________________________________________________________________\n",
      "batch_normalization_13 (Batc (None, 1, 1, 64)          256       \n",
      "_________________________________________________________________\n",
      "flatten_1 (Flatten)          (None, 64)                0         \n",
      "_________________________________________________________________\n",
      "dense_5 (Dense)              (None, 1164)              75660     \n",
      "_________________________________________________________________\n",
      "batch_normalization_14 (Batc (None, 1164)              4656      \n",
      "_________________________________________________________________\n",
      "dense_6 (Dense)              (None, 200)               233000    \n",
      "_________________________________________________________________\n",
      "batch_normalization_15 (Batc (None, 200)               800       \n",
      "_________________________________________________________________\n",
      "dense_7 (Dense)              (None, 50)                10050     \n",
      "_________________________________________________________________\n",
      "batch_normalization_16 (Batc (None, 50)                200       \n",
      "_________________________________________________________________\n",
      "dense_8 (Dense)              (None, 10)                510       \n",
      "_________________________________________________________________\n",
      "batch_normalization_17 (Batc (None, 10)                40        \n",
      "_________________________________________________________________\n",
      "dense_9 (Dense)              (None, 1)                 11        \n",
      "=================================================================\n",
      "Total params: 471,643\n",
      "Trainable params: 468,323\n",
      "Non-trainable params: 3,320\n",
      "_________________________________________________________________\n"
     ]
    }
   ],
   "source": [
    "#build model\n",
    "model = build_model()"
   ]
  },
  {
   "cell_type": "code",
   "execution_count": 16,
   "metadata": {},
   "outputs": [
    {
     "name": "stdout",
     "output_type": "stream",
     "text": [
      "Epoch 1/30\n",
      "242/242 [==============================] - 29s 72ms/step - loss: 0.3189 - accuracy: 0.1672\n",
      "Epoch 2/30\n",
      "242/242 [==============================] - 12s 50ms/step - loss: 0.2210 - accuracy: 0.1753\n",
      "Epoch 3/30\n",
      "242/242 [==============================] - 12s 50ms/step - loss: 0.2106 - accuracy: 0.1755\n",
      "Epoch 4/30\n",
      "242/242 [==============================] - 12s 51ms/step - loss: 0.2039 - accuracy: 0.1757\n",
      "Epoch 5/30\n",
      "242/242 [==============================] - 12s 51ms/step - loss: 0.2008 - accuracy: 0.1757\n",
      "Epoch 6/30\n",
      "242/242 [==============================] - 12s 51ms/step - loss: 0.1977 - accuracy: 0.1757\n",
      "Epoch 7/30\n",
      "242/242 [==============================] - 12s 51ms/step - loss: 0.1937 - accuracy: 0.1757\n",
      "Epoch 8/30\n",
      "242/242 [==============================] - 12s 51ms/step - loss: 0.1931 - accuracy: 0.1755\n",
      "Epoch 9/30\n",
      "242/242 [==============================] - 12s 50ms/step - loss: 0.1911 - accuracy: 0.1757\n",
      "Epoch 10/30\n",
      "242/242 [==============================] - 12s 51ms/step - loss: 0.1878 - accuracy: 0.1753\n",
      "Epoch 11/30\n",
      "242/242 [==============================] - 12s 51ms/step - loss: 0.1858 - accuracy: 0.1758\n",
      "Epoch 12/30\n",
      "242/242 [==============================] - 12s 51ms/step - loss: 0.1817 - accuracy: 0.1758\n",
      "Epoch 13/30\n",
      "242/242 [==============================] - 12s 52ms/step - loss: 0.1776 - accuracy: 0.1753\n",
      "Epoch 14/30\n",
      "242/242 [==============================] - 13s 52ms/step - loss: 0.1743 - accuracy: 0.1765\n",
      "Epoch 15/30\n",
      "242/242 [==============================] - 12s 51ms/step - loss: 0.1694 - accuracy: 0.1762\n",
      "Epoch 16/30\n",
      "242/242 [==============================] - 12s 50ms/step - loss: 0.1677 - accuracy: 0.1755\n",
      "Epoch 17/30\n",
      "242/242 [==============================] - 12s 51ms/step - loss: 0.1650 - accuracy: 0.1761\n",
      "Epoch 18/30\n",
      "242/242 [==============================] - 12s 51ms/step - loss: 0.1669 - accuracy: 0.1764\n",
      "Epoch 19/30\n",
      "242/242 [==============================] - 13s 53ms/step - loss: 0.1661 - accuracy: 0.1764\n",
      "Epoch 20/30\n",
      "242/242 [==============================] - 15s 62ms/step - loss: 0.1613 - accuracy: 0.1762\n",
      "Epoch 21/30\n",
      "242/242 [==============================] - 14s 58ms/step - loss: 0.1576 - accuracy: 0.1765\n",
      "Epoch 22/30\n",
      "242/242 [==============================] - 16s 64ms/step - loss: 0.1612 - accuracy: 0.1751\n",
      "Epoch 23/30\n",
      "242/242 [==============================] - 13s 55ms/step - loss: 0.1604 - accuracy: 0.1762\n",
      "Epoch 24/30\n",
      "242/242 [==============================] - 12s 51ms/step - loss: 0.1589 - accuracy: 0.1762\n",
      "Epoch 25/30\n",
      "242/242 [==============================] - 13s 54ms/step - loss: 0.1530 - accuracy: 0.1761\n",
      "Epoch 26/30\n",
      "242/242 [==============================] - 13s 53ms/step - loss: 0.1535 - accuracy: 0.1764\n",
      "Epoch 27/30\n",
      "242/242 [==============================] - 13s 55ms/step - loss: 0.1497 - accuracy: 0.1776\n",
      "Epoch 28/30\n",
      "242/242 [==============================] - 13s 53ms/step - loss: 0.1479 - accuracy: 0.1765\n",
      "Epoch 29/30\n",
      "242/242 [==============================] - 14s 56ms/step - loss: 0.1467 - accuracy: 0.1764\n",
      "Epoch 30/30\n",
      "242/242 [==============================] - 13s 53ms/step - loss: 0.1439 - accuracy: 0.1764\n",
      "Wall time: 6min 39s\n"
     ]
    }
   ],
   "source": [
    "%%time\n",
    "\n",
    "# training model on data \n",
    "model.compile(loss='mean_squared_error', optimizer='Adam',metrics=['accuracy'])\n",
    "    \n",
    "batch_size = 10\n",
    "steps = X.shape[0]//batch_size\n",
    "\n",
    "#Fits the model on data generated batch-by-batch by a Python generator.\n",
    "generator = batch_generator(X, y, batch_size=10)\n",
    "\n",
    "model_history = model.fit(\n",
    "                            generator,\n",
    "                            epochs = 30,\n",
    "                            steps_per_epoch=steps,\n",
    "                         )"
   ]
  },
  {
   "cell_type": "code",
   "execution_count": 17,
   "metadata": {},
   "outputs": [],
   "source": [
    "model.save('model_v4_1.h5')"
   ]
  },
  {
   "cell_type": "code",
   "execution_count": 18,
   "metadata": {},
   "outputs": [
    {
     "data": {
      "text/plain": [
       "dict_keys(['loss', 'accuracy'])"
      ]
     },
     "execution_count": 18,
     "metadata": {},
     "output_type": "execute_result"
    }
   ],
   "source": [
    "model_history.history.keys()"
   ]
  },
  {
   "cell_type": "code",
   "execution_count": 19,
   "metadata": {},
   "outputs": [
    {
     "data": {
      "text/plain": [
       "[<matplotlib.lines.Line2D at 0x22d071a84c0>]"
      ]
     },
     "execution_count": 19,
     "metadata": {},
     "output_type": "execute_result"
    },
    {
     "data": {
      "image/png": "[encoded data removed]",
      "text/plain": [
       "<Figure size 432x288 with 1 Axes>"
      ]
     },
     "metadata": {
      "needs_background": "light"
     },
     "output_type": "display_data"
    }
   ],
   "source": [
    "plt.plot(model_history.history['accuracy'])"
   ]
  },
  {
   "cell_type": "code",
   "execution_count": 20,
   "metadata": {},
   "outputs": [
    {
     "data": {
      "text/plain": [
       "[<matplotlib.lines.Line2D at 0x22d074892b0>]"
      ]
     },
     "execution_count": 20,
     "metadata": {},
     "output_type": "execute_result"
    },
    {
     "data": {
      "image/png": "[encoded data removed]",
      "text/plain": [
       "<Figure size 432x288 with 1 Axes>"
      ]
     },
     "metadata": {
      "needs_background": "light"
     },
     "output_type": "display_data"
    }
   ],
   "source": [
    "plt.plot(model_history.history['loss'])"
   ]
  },
  {
   "cell_type": "code",
   "execution_count": null,
   "metadata": {},
   "outputs": [],
   "source": []
  },
  {
   "cell_type": "code",
   "execution_count": null,
   "metadata": {},
   "outputs": [],
   "source": []
  },
  {
   "cell_type": "code",
   "execution_count": null,
   "metadata": {},
   "outputs": [],
   "source": []
  },
  {
   "cell_type": "code",
   "execution_count": 6,
   "metadata": {},
   "outputs": [],
   "source": [
    "data1 = pd.read_csv('driving_log_simple.csv',names=['center', 'left', 'right', 'steering', 'throttle', 'reverse', 'speed'])"
   ]
  },
  {
   "cell_type": "code",
   "execution_count": 7,
   "metadata": {},
   "outputs": [],
   "source": [
    "X1 = data1[['center', 'left', 'right']].values\n",
    "\n",
    "y1 = data1['steering'].values"
   ]
  },
  {
   "cell_type": "code",
   "execution_count": 8,
   "metadata": {},
   "outputs": [],
   "source": [
    "model = load_model('model_v4_1.h5')"
   ]
  },
  {
   "cell_type": "code",
   "execution_count": 9,
   "metadata": {},
   "outputs": [
    {
     "name": "stdout",
     "output_type": "stream",
     "text": [
      "Epoch 1/30\n",
      "163/163 [==============================] - 20s 75ms/step - loss: 0.0282 - accuracy: 0.2603\n",
      "Epoch 2/30\n",
      "163/163 [==============================] - 9s 55ms/step - loss: 0.0245 - accuracy: 0.2604\n",
      "Epoch 3/30\n",
      "163/163 [==============================] - 9s 58ms/step - loss: 0.0237 - accuracy: 0.2604\n",
      "Epoch 4/30\n",
      "163/163 [==============================] - 8s 52ms/step - loss: 0.0231 - accuracy: 0.2604\n",
      "Epoch 5/30\n",
      "163/163 [==============================] - 9s 53ms/step - loss: 0.0223 - accuracy: 0.2604\n",
      "Epoch 6/30\n",
      "163/163 [==============================] - 9s 55ms/step - loss: 0.0220 - accuracy: 0.2604\n",
      "Epoch 7/30\n",
      "163/163 [==============================] - 8s 52ms/step - loss: 0.0209 - accuracy: 0.2604\n",
      "Epoch 8/30\n",
      "163/163 [==============================] - 8s 52ms/step - loss: 0.0206 - accuracy: 0.2604\n",
      "Epoch 9/30\n",
      "163/163 [==============================] - 8s 52ms/step - loss: 0.0195 - accuracy: 0.2604\n",
      "Epoch 10/30\n",
      "163/163 [==============================] - 8s 51ms/step - loss: 0.0185 - accuracy: 0.2604\n",
      "Epoch 11/30\n",
      "163/163 [==============================] - 8s 52ms/step - loss: 0.0178 - accuracy: 0.2604\n",
      "Epoch 12/30\n",
      "163/163 [==============================] - 8s 51ms/step - loss: 0.0166 - accuracy: 0.2604\n",
      "Epoch 13/30\n",
      "163/163 [==============================] - 8s 52ms/step - loss: 0.0156 - accuracy: 0.2604\n",
      "Epoch 14/30\n",
      "163/163 [==============================] - 9s 56ms/step - loss: 0.0151 - accuracy: 0.2604\n",
      "Epoch 15/30\n",
      "163/163 [==============================] - 9s 58ms/step - loss: 0.0142 - accuracy: 0.2604\n",
      "Epoch 16/30\n",
      "163/163 [==============================] - 9s 57ms/step - loss: 0.0137 - accuracy: 0.2604\n",
      "Epoch 17/30\n",
      "163/163 [==============================] - 9s 54ms/step - loss: 0.0137 - accuracy: 0.2604\n",
      "Epoch 18/30\n",
      "163/163 [==============================] - 9s 53ms/step - loss: 0.0136 - accuracy: 0.2604\n",
      "Epoch 19/30\n",
      "163/163 [==============================] - 9s 56ms/step - loss: 0.0127 - accuracy: 0.2604\n",
      "Epoch 20/30\n",
      "163/163 [==============================] - 9s 54ms/step - loss: 0.0123 - accuracy: 0.2604\n",
      "Epoch 21/30\n",
      "163/163 [==============================] - 9s 52ms/step - loss: 0.0120 - accuracy: 0.2604\n",
      "Epoch 22/30\n",
      "163/163 [==============================] - 10s 59ms/step - loss: 0.0118 - accuracy: 0.2602\n",
      "Epoch 23/30\n",
      "163/163 [==============================] - 9s 58ms/step - loss: 0.0117 - accuracy: 0.2604\n",
      "Epoch 24/30\n",
      "163/163 [==============================] - 9s 54ms/step - loss: 0.0111 - accuracy: 0.2604\n",
      "Epoch 25/30\n",
      "163/163 [==============================] - 9s 53ms/step - loss: 0.0115 - accuracy: 0.2604\n",
      "Epoch 26/30\n",
      "163/163 [==============================] - 9s 57ms/step - loss: 0.0116 - accuracy: 0.2604\n",
      "Epoch 27/30\n",
      "163/163 [==============================] - 10s 58ms/step - loss: 0.0116 - accuracy: 0.2604\n",
      "Epoch 28/30\n",
      "163/163 [==============================] - 3925s 24s/step - loss: 0.0112 - accuracy: 0.2604\n",
      "Epoch 29/30\n",
      "163/163 [==============================] - 8s 49ms/step - loss: 0.0106 - accuracy: 0.2604\n",
      "Epoch 30/30\n",
      "163/163 [==============================] - 6s 40ms/step - loss: 0.0105 - accuracy: 0.2604\n"
     ]
    }
   ],
   "source": [
    "batch_size = 10\n",
    "steps1 = X1.shape[0]//batch_size\n",
    "\n",
    "#Fits the model on data generated batch-by-batch by a Python generator.\n",
    "generator1 = batch_generator(X1, y1, batch_size=10)\n",
    "\n",
    "model_history1 = model.fit(\n",
    "                            generator1,\n",
    "                            epochs = 30,\n",
    "                            steps_per_epoch=steps1,\n",
    "                         )"
   ]
  },
  {
   "cell_type": "code",
   "execution_count": 10,
   "metadata": {},
   "outputs": [],
   "source": [
    "model.save('model_v4_2.h5')"
   ]
  },
  {
   "cell_type": "code",
   "execution_count": null,
   "metadata": {},
   "outputs": [],
   "source": []
  },
  {
   "cell_type": "code",
   "execution_count": null,
   "metadata": {},
   "outputs": [],
   "source": []
  },
  {
   "cell_type": "code",
   "execution_count": 10,
   "metadata": {},
   "outputs": [],
   "source": [
    "def brightness(image):\n",
    "    \"\"\"\n",
    "    adjust brightness of the image.\n",
    "    \"\"\"\n",
    "    # HSV (Hue, Saturation, Value) is also called HSB ('B' for Brightness).\n",
    "    hsv = cv2.cvtColor(image, cv2.COLOR_RGB2HSV)\n",
    "    ratio = 1.0 + 0.4 * (np.random.rand() - 0.5)\n",
    "    hsv[:,:,2] =  hsv[:,:,2] * ratio\n",
    "    return cv2.cvtColor(hsv, cv2.COLOR_HSV2RGB)\n",
    "\n",
    "def random_translate(image, steering_angle, range_x, range_y):\n",
    "    \"\"\"\n",
    "    Randomly shift the image virtially and horizontally (translation).\n",
    "    \"\"\"\n",
    "    trans_x = range_x * (np.random.rand() - 0.5)\n",
    "    trans_y = range_y * (np.random.rand() - 0.5)\n",
    "    steering_angle += trans_x * 0.002\n",
    "    trans_m = np.float32([[1, 0, trans_x], [0, 1, trans_y]])\n",
    "    height, width = image.shape[:2]\n",
    "    image = cv2.warpAffine(image, trans_m, (width, height))\n",
    "    return image, steering_angle\n",
    "\n",
    "def flip(image, steering_angle):\n",
    "    \"\"\"\n",
    "    flipt the image left <-> right, and adjust the steering angle.\n",
    "    \"\"\"\n",
    "    image = cv2.flip(image, 1)\n",
    "    steering_angle = -steering_angle\n",
    "    return image, steering_angle\n",
    "\n",
    "def random_shadow(image):\n",
    "    \"\"\"\n",
    "    Generates and adds random shadow\n",
    "    \"\"\"\n",
    "    # (x1, y1) and (x2, y2) forms a line\n",
    "    # xm, ym gives all the locations of the image\n",
    "    x1, y1 = IMAGE_WIDTH * np.random.rand(), 0\n",
    "    x2, y2 = IMAGE_WIDTH * np.random.rand(), IMAGE_HEIGHT\n",
    "    xm, ym = np.mgrid[0:IMAGE_HEIGHT, 0:IMAGE_WIDTH]\n",
    "\n",
    "    # mathematically speaking, we want to set 1 below the line and zero otherwise\n",
    "    # Our coordinate is up side down.  So, the above the line: \n",
    "    # (ym-y1)/(xm-x1) > (y2-y1)/(x2-x1)\n",
    "    # as x2 == x1 causes zero-division problem, we'll write it in the below form:\n",
    "    # (ym-y1)*(x2-x1) - (y2-y1)*(xm-x1) > 0\n",
    "    mask = np.zeros_like(image[:, :, 1])\n",
    "    mask[(ym - y1) * (x2 - x1) - (y2 - y1) * (xm - x1) > 0] = 1\n",
    "\n",
    "    # choose which side should have shadow and adjust saturation\n",
    "    cond = mask == np.random.randint(2)\n",
    "    s_ratio = np.random.uniform(low=0.2, high=0.5)\n",
    "    #s_ratio = np.array(s_ratio,dtype=np.uint8)\n",
    "    # adjust Saturation in HLS(Hue, Light, Saturation)\n",
    "    \n",
    "    hls = cv2.cvtColor(image, cv2.COLOR_RGB2HLS)\n",
    "    hls[:, :, 1][cond] = hls[:, :, 1][cond] * s_ratio\n",
    "    return cv2.cvtColor(hls, cv2.COLOR_HLS2RGB)\n",
    "\n"
   ]
  },
  {
   "cell_type": "code",
   "execution_count": 9,
   "metadata": {},
   "outputs": [],
   "source": [
    "def batch_generator1(X_train, y_train, batch_size):\n",
    "    \"\"\"\n",
    "    Generate training image and associated steering angles\n",
    "    \"\"\"\n",
    "    images = list()\n",
    "    steers = list()\n",
    "\n",
    "    while 1:\n",
    "        batch_count = 0\n",
    "        for index in range(X_train.shape[0]):\n",
    "        \n",
    "            center, left, right = X_train[index]\n",
    "            steering_angle = y_train[index]\n",
    "            \n",
    "            # image preprocess\n",
    "            center_image = Preprocess(center)\n",
    "            left_image = Preprocess(left)\n",
    "            right_image = Preprocess(right)\n",
    "                \n",
    "            #add the image and steering angle to the batch\n",
    "            images.append(center_image/255)\n",
    "            images.append(left_image/255)\n",
    "            images.append(right_image/255)\n",
    "            \n",
    "            steers.append(steering_angle)\n",
    "            steers.append(steering_angle+0.25)\n",
    "            steers.append(steering_angle-0.25)\n",
    "            \n",
    "            #Data augmentation \n",
    "            \n",
    "            #adding some shadow\n",
    "            random_shadow_image = random_shadow(center_image)\n",
    "            images.append(random_shadow_image/255)\n",
    "            steers.append(steering_angle)\n",
    "            \n",
    "            #adding some brightness\n",
    "            random_brightness_image = brightness(center_image)\n",
    "            images.append(random_brightness_image/255)\n",
    "            steers.append(steering_angle)\n",
    "            \n",
    "            #translating the image\n",
    "            random_translate_image, random_translate_steering_angle = random_translate(center_image,steering_angle,50,50)\n",
    "            images.append(random_translate_image/255)\n",
    "            steers.append(random_translate_steering_angle)\n",
    "            \n",
    "            #fliping the image\n",
    "            flipped_image, flipped_steering_angle = flip(center_image,steering_angle)\n",
    "            images.append(flipped_image/255)\n",
    "            steers.append(flipped_steering_angle)\n",
    "            \n",
    "            batch_count = batch_count + 1\n",
    "            \n",
    "            if batch_count == batch_size:\n",
    "                batch_count = 0\n",
    "                yield (np.array(images),np.array(steers))\n",
    "                images = list() \n",
    "                steers = list()\n",
    "            "
   ]
  },
  {
   "cell_type": "code",
   "execution_count": 13,
   "metadata": {},
   "outputs": [
    {
     "name": "stdout",
     "output_type": "stream",
     "text": [
      "Epoch 1/30\n",
      "163/163 [==============================] - 51s 304ms/step - loss: 0.0266 - accuracy: 0.4499\n",
      "Epoch 2/30\n",
      "163/163 [==============================] - 39s 236ms/step - loss: 0.0242 - accuracy: 0.4500\n",
      "Epoch 3/30\n",
      "163/163 [==============================] - 44s 272ms/step - loss: 0.0227 - accuracy: 0.4500\n",
      "Epoch 4/30\n",
      "163/163 [==============================] - 52s 317ms/step - loss: 0.0216 - accuracy: 0.4500\n",
      "Epoch 5/30\n",
      "163/163 [==============================] - 44s 272ms/step - loss: 0.0207 - accuracy: 0.4500\n",
      "Epoch 6/30\n",
      "163/163 [==============================] - 40s 246ms/step - loss: 0.0198 - accuracy: 0.4500\n",
      "Epoch 7/30\n",
      "163/163 [==============================] - 47s 291ms/step - loss: 0.0181 - accuracy: 0.4500\n",
      "Epoch 8/30\n",
      "163/163 [==============================] - 47s 287ms/step - loss: 0.0176 - accuracy: 0.4500\n",
      "Epoch 9/30\n",
      "163/163 [==============================] - 50s 306ms/step - loss: 0.0172 - accuracy: 0.4500\n",
      "Epoch 10/30\n",
      "163/163 [==============================] - 45s 277ms/step - loss: 0.0165 - accuracy: 0.4500\n",
      "Epoch 11/30\n",
      "163/163 [==============================] - 44s 273ms/step - loss: 0.0164 - accuracy: 0.4500\n",
      "Epoch 12/30\n",
      "163/163 [==============================] - 44s 267ms/step - loss: 0.0166 - accuracy: 0.4500\n",
      "Epoch 13/30\n",
      "163/163 [==============================] - 43s 264ms/step - loss: 0.0148 - accuracy: 0.4500\n",
      "Epoch 14/30\n",
      "163/163 [==============================] - 48s 292ms/step - loss: 0.0139 - accuracy: 0.4500\n",
      "Epoch 15/30\n",
      "163/163 [==============================] - 47s 287ms/step - loss: 0.0131 - accuracy: 0.4500\n",
      "Epoch 16/30\n",
      "163/163 [==============================] - 48s 295ms/step - loss: 0.0127 - accuracy: 0.4500\n",
      "Epoch 17/30\n",
      "163/163 [==============================] - 48s 297ms/step - loss: 0.0133 - accuracy: 0.4500\n",
      "Epoch 18/30\n",
      "163/163 [==============================] - 45s 276ms/step - loss: 0.0123 - accuracy: 0.4503\n",
      "Epoch 19/30\n",
      "163/163 [==============================] - 49s 302ms/step - loss: 0.0124 - accuracy: 0.4503\n",
      "Epoch 20/30\n",
      "163/163 [==============================] - 48s 291ms/step - loss: 0.0113 - accuracy: 0.4502\n",
      "Epoch 21/30\n",
      "163/163 [==============================] - 50s 307ms/step - loss: 0.0112 - accuracy: 0.4502\n",
      "Epoch 22/30\n",
      "163/163 [==============================] - 49s 300ms/step - loss: 0.0115 - accuracy: 0.4503\n",
      "Epoch 23/30\n",
      "163/163 [==============================] - 32s 198ms/step - loss: 0.0113 - accuracy: 0.4501\n",
      "Epoch 24/30\n",
      "163/163 [==============================] - 33s 202ms/step - loss: 0.0117 - accuracy: 0.4503\n",
      "Epoch 25/30\n",
      "163/163 [==============================] - 34s 207ms/step - loss: 0.0113 - accuracy: 0.4503\n",
      "Epoch 26/30\n",
      "163/163 [==============================] - 29s 178ms/step - loss: 0.0102 - accuracy: 0.4504\n",
      "Epoch 27/30\n",
      "163/163 [==============================] - 28s 174ms/step - loss: 0.0099 - accuracy: 0.4503\n",
      "Epoch 28/30\n",
      "163/163 [==============================] - 28s 174ms/step - loss: 0.0097 - accuracy: 0.4504\n",
      "Epoch 29/30\n",
      "163/163 [==============================] - 29s 177ms/step - loss: 0.0089 - accuracy: 0.4504\n",
      "Epoch 30/30\n",
      "163/163 [==============================] - 29s 178ms/step - loss: 0.0088 - accuracy: 0.4504\n"
     ]
    }
   ],
   "source": [
    "batch_size = 10\n",
    "steps1 = X1.shape[0]//batch_size\n",
    "\n",
    "#Fits the model on data generated batch-by-batch by a Python generator.\n",
    "generator1 = batch_generator1(X1, y1, batch_size=10)\n",
    "\n",
    "model_history2 = model.fit(\n",
    "                            generator1,\n",
    "                            epochs = 30,\n",
    "                            steps_per_epoch=steps1,\n",
    "                         )"
   ]
  },
  {
   "cell_type": "code",
   "execution_count": 14,
   "metadata": {},
   "outputs": [],
   "source": [
    "model.save('model_v4_3.h5')"
   ]
  },
  {
   "cell_type": "code",
   "execution_count": 15,
   "metadata": {},
   "outputs": [
    {
     "data": {
      "text/plain": [
       "[<matplotlib.lines.Line2D at 0x14c16ee6a60>]"
      ]
     },
     "execution_count": 15,
     "metadata": {},
     "output_type": "execute_result"
    },
    {
     "data": {
      "image/png": "[encoded data removed]",
      "text/plain": [
       "<Figure size 432x288 with 1 Axes>"
      ]
     },
     "metadata": {
      "needs_background": "light"
     },
     "output_type": "display_data"
    }
   ],
   "source": [
    "plt.plot(model_history2.history['loss'])"
   ]
  },
  {
   "cell_type": "code",
   "execution_count": null,
   "metadata": {},
   "outputs": [],
   "source": []
  },
  {
   "cell_type": "code",
   "execution_count": null,
   "metadata": {},
   "outputs": [],
   "source": []
  },
  {
   "cell_type": "code",
   "execution_count": null,
   "metadata": {},
   "outputs": [],
   "source": []
  },
  {
   "cell_type": "code",
   "execution_count": 7,
   "metadata": {},
   "outputs": [],
   "source": [
    "model = load_model('model_v4_3.h5')"
   ]
  },
  {
   "cell_type": "code",
   "execution_count": 11,
   "metadata": {},
   "outputs": [
    {
     "name": "stdout",
     "output_type": "stream",
     "text": [
      "Epoch 1/25\n",
      "242/242 [==============================] - 59s 197ms/step - loss: 0.1965 - accuracy: 0.3038\n",
      "Epoch 2/25\n",
      "242/242 [==============================] - 41s 170ms/step - loss: 0.1784 - accuracy: 0.3039s - loss: 0.1808 - accura\n",
      "Epoch 3/25\n",
      "242/242 [==============================] - 42s 175ms/step - loss: 0.1775 - accuracy: 0.3043\n",
      "Epoch 4/25\n",
      "242/242 [==============================] - 41s 171ms/step - loss: 0.1730 - accuracy: 0.3032\n",
      "Epoch 5/25\n",
      "242/242 [==============================] - 43s 178ms/step - loss: 0.1697 - accuracy: 0.3028\n",
      "Epoch 6/25\n",
      "242/242 [==============================] - 51s 212ms/step - loss: 0.1675 - accuracy: 0.3035\n",
      "Epoch 7/25\n",
      "242/242 [==============================] - 45s 187ms/step - loss: 0.1634 - accuracy: 0.3029\n",
      "Epoch 8/25\n",
      "242/242 [==============================] - 50s 204ms/step - loss: 0.1594 - accuracy: 0.3021\n",
      "Epoch 9/25\n",
      "242/242 [==============================] - 45s 187ms/step - loss: 0.1551 - accuracy: 0.3013\n",
      "Epoch 10/25\n",
      "242/242 [==============================] - 45s 185ms/step - loss: 0.1530 - accuracy: 0.3006\n",
      "Epoch 11/25\n",
      "242/242 [==============================] - 52s 214ms/step - loss: 0.1486 - accuracy: 0.3014\n",
      "Epoch 12/25\n",
      "242/242 [==============================] - 51s 211ms/step - loss: 0.1460 - accuracy: 0.3015\n",
      "Epoch 13/25\n",
      "242/242 [==============================] - 50s 208ms/step - loss: 0.1413 - accuracy: 0.3029\n",
      "Epoch 14/25\n",
      "242/242 [==============================] - 42s 173ms/step - loss: 0.1392 - accuracy: 0.3025\n",
      "Epoch 15/25\n",
      "242/242 [==============================] - 41s 171ms/step - loss: 0.1360 - accuracy: 0.3026\n",
      "Epoch 16/25\n",
      "242/242 [==============================] - 41s 170ms/step - loss: 0.1349 - accuracy: 0.3045\n",
      "Epoch 17/25\n",
      "242/242 [==============================] - 51s 209ms/step - loss: 0.1319 - accuracy: 0.3052\n",
      "Epoch 18/25\n",
      "242/242 [==============================] - 49s 203ms/step - loss: 0.1294 - accuracy: 0.3053\n",
      "Epoch 19/25\n",
      "242/242 [==============================] - 51s 209ms/step - loss: 0.1255 - accuracy: 0.3071\n",
      "Epoch 20/25\n",
      "242/242 [==============================] - 49s 203ms/step - loss: 0.1227 - accuracy: 0.3084\n",
      "Epoch 21/25\n",
      "242/242 [==============================] - 49s 201ms/step - loss: 0.1210 - accuracy: 0.3094\n",
      "Epoch 22/25\n",
      "242/242 [==============================] - 50s 205ms/step - loss: 0.1179 - accuracy: 0.3106\n",
      "Epoch 23/25\n",
      "242/242 [==============================] - 49s 203ms/step - loss: 0.1150 - accuracy: 0.3119\n",
      "Epoch 24/25\n",
      "242/242 [==============================] - 50s 206ms/step - loss: 0.1114 - accuracy: 0.3130\n",
      "Epoch 25/25\n",
      "242/242 [==============================] - 50s 206ms/step - loss: 0.1098 - accuracy: 0.3127\n"
     ]
    }
   ],
   "source": [
    "batch_size = 10\n",
    "steps1 = X.shape[0]//batch_size\n",
    "\n",
    "#Fits the model on data generated batch-by-batch by a Python generator.\n",
    "generator1 = batch_generator1(X, y, batch_size=10)\n",
    "\n",
    "model_history2 = model.fit(\n",
    "                            generator1,\n",
    "                            epochs = 25,\n",
    "                            steps_per_epoch=steps1,\n",
    "                         )"
   ]
  },
  {
   "cell_type": "code",
   "execution_count": 12,
   "metadata": {},
   "outputs": [],
   "source": [
    "model.save('model_v4_4.h5')"
   ]
  },
  {
   "cell_type": "code",
   "execution_count": 13,
   "metadata": {},
   "outputs": [
    {
     "data": {
      "text/plain": [
       "[<matplotlib.lines.Line2D at 0x21bbac04e50>]"
      ]
     },
     "execution_count": 13,
     "metadata": {},
     "output_type": "execute_result"
    },
    {
     "data": {
      "image/png": "[encoded data removed]",
      "text/plain": [
       "<Figure size 432x288 with 1 Axes>"
      ]
     },
     "metadata": {
      "needs_background": "light"
     },
     "output_type": "display_data"
    }
   ],
   "source": [
    "plt.plot(model_history2.history['loss'])"
   ]
  },
  {
   "cell_type": "code",
   "execution_count": null,
   "metadata": {},
   "outputs": [],
   "source": []
  }
 ],
 "metadata": {
  "kernelspec": {
   "display_name": "Python 3",
   "language": "python",
   "name": "python3"
  },
  "language_info": {
   "codemirror_mode": {
    "name": "ipython",
    "version": 3
   },
   "file_extension": ".py",
   "mimetype": "text/x-python",
   "name": "python",
   "nbconvert_exporter": "python",
   "pygments_lexer": "ipython3",
   "version": "3.8.5"
  }
 },
 "nbformat": 4,
 "nbformat_minor": 4
}
