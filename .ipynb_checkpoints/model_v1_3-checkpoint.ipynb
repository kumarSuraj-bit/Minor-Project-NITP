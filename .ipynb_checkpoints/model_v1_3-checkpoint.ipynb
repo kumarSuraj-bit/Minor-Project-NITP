{
 "cells": [
  {
   "cell_type": "markdown",
   "metadata": {},
   "source": [
    "## Importing Important packages"
   ]
  },
  {
   "cell_type": "code",
   "execution_count": 2,
   "metadata": {},
   "outputs": [],
   "source": [
    "import pandas as pd\n",
    "import numpy as np\n",
    "import matplotlib.pyplot as plt\n",
    "import matplotlib.image as mpimg\n",
    "%matplotlib inline\n",
    "import cv2\n",
    "\n",
    "from sklearn.model_selection import train_test_split\n",
    "\n",
    "import tensorflow as tf\n",
    "from tensorflow import keras\n",
    "from tensorflow.keras.models import Sequential\n",
    "from tensorflow.keras.optimizers import Adam\n",
    "from tensorflow.keras.callbacks import ModelCheckpoint\n",
    "from tensorflow.keras.layers import Lambda, Conv2D, MaxPooling2D, Dropout, Dense, Flatten\n",
    "from tensorflow.keras.utils import plot_model\n",
    "from keras.models import load_model\n",
    "\n",
    "import os #for reading files"
   ]
  },
  {
   "cell_type": "markdown",
   "metadata": {},
   "source": [
    "Activating the GPU for fast Training"
   ]
  },
  {
   "cell_type": "code",
   "execution_count": 3,
   "metadata": {},
   "outputs": [],
   "source": [
    "physical_device = tf.config.list_physical_devices(\"GPU\")\n",
    "tf.config.experimental.set_memory_growth(physical_device[0],True)"
   ]
  },
  {
   "cell_type": "markdown",
   "metadata": {},
   "source": [
    "## Data Loading and Prepare it to feed in model"
   ]
  },
  {
   "cell_type": "code",
   "execution_count": 4,
   "metadata": {},
   "outputs": [],
   "source": [
    "data = pd.read_csv('driving_log_hard.csv',names=['center', 'left', 'right', 'steering', 'throttle', 'reverse', 'speed'])"
   ]
  },
  {
   "cell_type": "code",
   "execution_count": 4,
   "metadata": {},
   "outputs": [
    {
     "data": {
      "text/plain": [
       "(2421, 7)"
      ]
     },
     "execution_count": 4,
     "metadata": {},
     "output_type": "execute_result"
    }
   ],
   "source": [
    "data.shape"
   ]
  },
  {
   "cell_type": "code",
   "execution_count": 5,
   "metadata": {},
   "outputs": [
    {
     "data": {
      "text/html": [
       "<div>\n",
       "<style scoped>\n",
       "    .dataframe tbody tr th:only-of-type {\n",
       "        vertical-align: middle;\n",
       "    }\n",
       "\n",
       "    .dataframe tbody tr th {\n",
       "        vertical-align: top;\n",
       "    }\n",
       "\n",
       "    .dataframe thead th {\n",
       "        text-align: right;\n",
       "    }\n",
       "</style>\n",
       "<table border=\"1\" class=\"dataframe\">\n",
       "  <thead>\n",
       "    <tr style=\"text-align: right;\">\n",
       "      <th></th>\n",
       "      <th>center</th>\n",
       "      <th>left</th>\n",
       "      <th>right</th>\n",
       "      <th>steering</th>\n",
       "      <th>throttle</th>\n",
       "      <th>reverse</th>\n",
       "      <th>speed</th>\n",
       "    </tr>\n",
       "  </thead>\n",
       "  <tbody>\n",
       "    <tr>\n",
       "      <th>0</th>\n",
       "      <td>C:\\Users\\suraj\\Desktop\\MinorProjectNITP2022\\IM...</td>\n",
       "      <td>C:\\Users\\suraj\\Desktop\\MinorProjectNITP2022\\IM...</td>\n",
       "      <td>C:\\Users\\suraj\\Desktop\\MinorProjectNITP2022\\IM...</td>\n",
       "      <td>0.0</td>\n",
       "      <td>0.0</td>\n",
       "      <td>0.0</td>\n",
       "      <td>0.000130</td>\n",
       "    </tr>\n",
       "    <tr>\n",
       "      <th>1</th>\n",
       "      <td>C:\\Users\\suraj\\Desktop\\MinorProjectNITP2022\\IM...</td>\n",
       "      <td>C:\\Users\\suraj\\Desktop\\MinorProjectNITP2022\\IM...</td>\n",
       "      <td>C:\\Users\\suraj\\Desktop\\MinorProjectNITP2022\\IM...</td>\n",
       "      <td>0.0</td>\n",
       "      <td>0.0</td>\n",
       "      <td>0.0</td>\n",
       "      <td>0.000150</td>\n",
       "    </tr>\n",
       "    <tr>\n",
       "      <th>2</th>\n",
       "      <td>C:\\Users\\suraj\\Desktop\\MinorProjectNITP2022\\IM...</td>\n",
       "      <td>C:\\Users\\suraj\\Desktop\\MinorProjectNITP2022\\IM...</td>\n",
       "      <td>C:\\Users\\suraj\\Desktop\\MinorProjectNITP2022\\IM...</td>\n",
       "      <td>0.0</td>\n",
       "      <td>0.0</td>\n",
       "      <td>0.0</td>\n",
       "      <td>0.000160</td>\n",
       "    </tr>\n",
       "    <tr>\n",
       "      <th>3</th>\n",
       "      <td>C:\\Users\\suraj\\Desktop\\MinorProjectNITP2022\\IM...</td>\n",
       "      <td>C:\\Users\\suraj\\Desktop\\MinorProjectNITP2022\\IM...</td>\n",
       "      <td>C:\\Users\\suraj\\Desktop\\MinorProjectNITP2022\\IM...</td>\n",
       "      <td>0.0</td>\n",
       "      <td>0.0</td>\n",
       "      <td>0.0</td>\n",
       "      <td>0.000204</td>\n",
       "    </tr>\n",
       "    <tr>\n",
       "      <th>4</th>\n",
       "      <td>C:\\Users\\suraj\\Desktop\\MinorProjectNITP2022\\IM...</td>\n",
       "      <td>C:\\Users\\suraj\\Desktop\\MinorProjectNITP2022\\IM...</td>\n",
       "      <td>C:\\Users\\suraj\\Desktop\\MinorProjectNITP2022\\IM...</td>\n",
       "      <td>0.0</td>\n",
       "      <td>0.0</td>\n",
       "      <td>0.0</td>\n",
       "      <td>0.000294</td>\n",
       "    </tr>\n",
       "    <tr>\n",
       "      <th>...</th>\n",
       "      <td>...</td>\n",
       "      <td>...</td>\n",
       "      <td>...</td>\n",
       "      <td>...</td>\n",
       "      <td>...</td>\n",
       "      <td>...</td>\n",
       "      <td>...</td>\n",
       "    </tr>\n",
       "    <tr>\n",
       "      <th>2416</th>\n",
       "      <td>C:\\Users\\suraj\\Desktop\\MinorProjectNITP2022\\IM...</td>\n",
       "      <td>C:\\Users\\suraj\\Desktop\\MinorProjectNITP2022\\IM...</td>\n",
       "      <td>C:\\Users\\suraj\\Desktop\\MinorProjectNITP2022\\IM...</td>\n",
       "      <td>0.0</td>\n",
       "      <td>0.0</td>\n",
       "      <td>0.0</td>\n",
       "      <td>21.233260</td>\n",
       "    </tr>\n",
       "    <tr>\n",
       "      <th>2417</th>\n",
       "      <td>C:\\Users\\suraj\\Desktop\\MinorProjectNITP2022\\IM...</td>\n",
       "      <td>C:\\Users\\suraj\\Desktop\\MinorProjectNITP2022\\IM...</td>\n",
       "      <td>C:\\Users\\suraj\\Desktop\\MinorProjectNITP2022\\IM...</td>\n",
       "      <td>0.0</td>\n",
       "      <td>0.0</td>\n",
       "      <td>0.0</td>\n",
       "      <td>20.766050</td>\n",
       "    </tr>\n",
       "    <tr>\n",
       "      <th>2418</th>\n",
       "      <td>C:\\Users\\suraj\\Desktop\\MinorProjectNITP2022\\IM...</td>\n",
       "      <td>C:\\Users\\suraj\\Desktop\\MinorProjectNITP2022\\IM...</td>\n",
       "      <td>C:\\Users\\suraj\\Desktop\\MinorProjectNITP2022\\IM...</td>\n",
       "      <td>0.0</td>\n",
       "      <td>0.0</td>\n",
       "      <td>0.0</td>\n",
       "      <td>20.308270</td>\n",
       "    </tr>\n",
       "    <tr>\n",
       "      <th>2419</th>\n",
       "      <td>C:\\Users\\suraj\\Desktop\\MinorProjectNITP2022\\IM...</td>\n",
       "      <td>C:\\Users\\suraj\\Desktop\\MinorProjectNITP2022\\IM...</td>\n",
       "      <td>C:\\Users\\suraj\\Desktop\\MinorProjectNITP2022\\IM...</td>\n",
       "      <td>0.0</td>\n",
       "      <td>0.0</td>\n",
       "      <td>0.0</td>\n",
       "      <td>19.723300</td>\n",
       "    </tr>\n",
       "    <tr>\n",
       "      <th>2420</th>\n",
       "      <td>C:\\Users\\suraj\\Desktop\\MinorProjectNITP2022\\IM...</td>\n",
       "      <td>C:\\Users\\suraj\\Desktop\\MinorProjectNITP2022\\IM...</td>\n",
       "      <td>C:\\Users\\suraj\\Desktop\\MinorProjectNITP2022\\IM...</td>\n",
       "      <td>0.0</td>\n",
       "      <td>0.0</td>\n",
       "      <td>0.0</td>\n",
       "      <td>19.315330</td>\n",
       "    </tr>\n",
       "  </tbody>\n",
       "</table>\n",
       "<p>2421 rows × 7 columns</p>\n",
       "</div>"
      ],
      "text/plain": [
       "                                                 center  \\\n",
       "0     C:\\Users\\suraj\\Desktop\\MinorProjectNITP2022\\IM...   \n",
       "1     C:\\Users\\suraj\\Desktop\\MinorProjectNITP2022\\IM...   \n",
       "2     C:\\Users\\suraj\\Desktop\\MinorProjectNITP2022\\IM...   \n",
       "3     C:\\Users\\suraj\\Desktop\\MinorProjectNITP2022\\IM...   \n",
       "4     C:\\Users\\suraj\\Desktop\\MinorProjectNITP2022\\IM...   \n",
       "...                                                 ...   \n",
       "2416  C:\\Users\\suraj\\Desktop\\MinorProjectNITP2022\\IM...   \n",
       "2417  C:\\Users\\suraj\\Desktop\\MinorProjectNITP2022\\IM...   \n",
       "2418  C:\\Users\\suraj\\Desktop\\MinorProjectNITP2022\\IM...   \n",
       "2419  C:\\Users\\suraj\\Desktop\\MinorProjectNITP2022\\IM...   \n",
       "2420  C:\\Users\\suraj\\Desktop\\MinorProjectNITP2022\\IM...   \n",
       "\n",
       "                                                   left  \\\n",
       "0     C:\\Users\\suraj\\Desktop\\MinorProjectNITP2022\\IM...   \n",
       "1     C:\\Users\\suraj\\Desktop\\MinorProjectNITP2022\\IM...   \n",
       "2     C:\\Users\\suraj\\Desktop\\MinorProjectNITP2022\\IM...   \n",
       "3     C:\\Users\\suraj\\Desktop\\MinorProjectNITP2022\\IM...   \n",
       "4     C:\\Users\\suraj\\Desktop\\MinorProjectNITP2022\\IM...   \n",
       "...                                                 ...   \n",
       "2416  C:\\Users\\suraj\\Desktop\\MinorProjectNITP2022\\IM...   \n",
       "2417  C:\\Users\\suraj\\Desktop\\MinorProjectNITP2022\\IM...   \n",
       "2418  C:\\Users\\suraj\\Desktop\\MinorProjectNITP2022\\IM...   \n",
       "2419  C:\\Users\\suraj\\Desktop\\MinorProjectNITP2022\\IM...   \n",
       "2420  C:\\Users\\suraj\\Desktop\\MinorProjectNITP2022\\IM...   \n",
       "\n",
       "                                                  right  steering  throttle  \\\n",
       "0     C:\\Users\\suraj\\Desktop\\MinorProjectNITP2022\\IM...       0.0       0.0   \n",
       "1     C:\\Users\\suraj\\Desktop\\MinorProjectNITP2022\\IM...       0.0       0.0   \n",
       "2     C:\\Users\\suraj\\Desktop\\MinorProjectNITP2022\\IM...       0.0       0.0   \n",
       "3     C:\\Users\\suraj\\Desktop\\MinorProjectNITP2022\\IM...       0.0       0.0   \n",
       "4     C:\\Users\\suraj\\Desktop\\MinorProjectNITP2022\\IM...       0.0       0.0   \n",
       "...                                                 ...       ...       ...   \n",
       "2416  C:\\Users\\suraj\\Desktop\\MinorProjectNITP2022\\IM...       0.0       0.0   \n",
       "2417  C:\\Users\\suraj\\Desktop\\MinorProjectNITP2022\\IM...       0.0       0.0   \n",
       "2418  C:\\Users\\suraj\\Desktop\\MinorProjectNITP2022\\IM...       0.0       0.0   \n",
       "2419  C:\\Users\\suraj\\Desktop\\MinorProjectNITP2022\\IM...       0.0       0.0   \n",
       "2420  C:\\Users\\suraj\\Desktop\\MinorProjectNITP2022\\IM...       0.0       0.0   \n",
       "\n",
       "      reverse      speed  \n",
       "0         0.0   0.000130  \n",
       "1         0.0   0.000150  \n",
       "2         0.0   0.000160  \n",
       "3         0.0   0.000204  \n",
       "4         0.0   0.000294  \n",
       "...       ...        ...  \n",
       "2416      0.0  21.233260  \n",
       "2417      0.0  20.766050  \n",
       "2418      0.0  20.308270  \n",
       "2419      0.0  19.723300  \n",
       "2420      0.0  19.315330  \n",
       "\n",
       "[2421 rows x 7 columns]"
      ]
     },
     "execution_count": 5,
     "metadata": {},
     "output_type": "execute_result"
    }
   ],
   "source": [
    "data"
   ]
  },
  {
   "cell_type": "code",
   "execution_count": 5,
   "metadata": {},
   "outputs": [],
   "source": [
    "X = data[['center', 'left', 'right']].values\n",
    "\n",
    "y = data['steering'].values"
   ]
  },
  {
   "cell_type": "markdown",
   "metadata": {},
   "source": [
    "# Model Architecture"
   ]
  },
  {
   "cell_type": "markdown",
   "metadata": {},
   "source": [
    "## Model used by NVIDIA\n",
    "\n",
    "    Image normalization to avoid saturation and make gradients work better.\n",
    "    \n",
    "    Convolution: 5x5, filter: 24, strides: 2x2, activation: ELU\n",
    "    Convolution: 5x5, filter: 36, strides: 2x2, activation: ELU\n",
    "    Convolution: 5x5, filter: 48, strides: 2x2, activation: ELU\n",
    "    Convolution: 3x3, filter: 64, strides: 1x1, activation: ELU\n",
    "    Convolution: 3x3, filter: 64, strides: 1x1, activation: ELU\n",
    "    Drop out (0.5)\n",
    "    Fully connected: neurons: 100, activation: ELU\n",
    "    Fully connected: neurons: 50, activation: ELU\n",
    "    Fully connected: neurons: 10, activation: ELU\n",
    "    Fully connected: neurons: 1 (output)\n",
    "    \n",
    "    # the convolution layers are meant to handle feature engineering\n",
    "    the fully connected layer for predicting the steering angle.\n",
    "    dropout avoids overfitting\n",
    "    ELU(Exponential linear unit) function takes care of the Vanishing gradient problem. "
   ]
  },
  {
   "cell_type": "code",
   "execution_count": 6,
   "metadata": {},
   "outputs": [],
   "source": [
    "IMAGE_HEIGHT, IMAGE_WIDTH, IMAGE_CHANNELS = 160, 320, 3\n",
    "INPUT_SHAPE = (IMAGE_HEIGHT, IMAGE_WIDTH, IMAGE_CHANNELS)"
   ]
  },
  {
   "cell_type": "code",
   "execution_count": 9,
   "metadata": {},
   "outputs": [],
   "source": [
    "def build_model():\n",
    "    \n",
    "    model = Sequential()\n",
    "    model.add(Conv2D(24, 5, 5, activation='elu', padding = 'same',input_shape=INPUT_SHAPE))\n",
    "    model.add(Conv2D(36, 5, 5, activation='elu', padding = 'same'))\n",
    "    model.add(Conv2D(48, 5, 5, activation='elu', padding = 'same'))\n",
    "    model.add(Conv2D(64, 3, 3, activation='elu', padding = 'same'))\n",
    "    model.add(Conv2D(64, 3, 3, activation='elu', padding = 'same'))\n",
    "    model.add(Dropout(0.5))\n",
    "    model.add(Flatten())\n",
    "    model.add(Dense(100, activation='elu'))\n",
    "    model.add(Dense(50, activation='elu'))\n",
    "    model.add(Dense(10, activation='elu'))\n",
    "    model.add(Dense(1))\n",
    "    \n",
    "    model.summary()\n",
    "    \n",
    "    return model"
   ]
  },
  {
   "cell_type": "code",
   "execution_count": 7,
   "metadata": {},
   "outputs": [],
   "source": [
    "def Preprocess(image):\n",
    "    \n",
    "    image = mpimg.imread(image) #Load RGB images from a file\n",
    "    image = cv2.cvtColor(image, cv2.COLOR_RGB2YUV) # Convert the image from RGB to YUV (This is what the NVIDIA model does)\n",
    "    #image = image/255 # normalize pixels value between 0 & 1\n",
    "    return image"
   ]
  },
  {
   "cell_type": "code",
   "execution_count": 6,
   "metadata": {},
   "outputs": [],
   "source": [
    "def batch_generator(X_train, y_train, batch_size):\n",
    "    \"\"\"\n",
    "    Generate training image and associated steering angles\n",
    "    \"\"\"\n",
    "    images = list()\n",
    "    steers = list()\n",
    "\n",
    "    while 1:\n",
    "        batch_count = 0\n",
    "        for index in range(X_train.shape[0]):\n",
    "        \n",
    "            center, left, right = X_train[index]\n",
    "            steering_angle = y_train[index]\n",
    "            \n",
    "            # image preprocess\n",
    "            center_image = Preprocess(center)\n",
    "            left_image = Preprocess(left)\n",
    "            right_image = Preprocess(right)\n",
    "                \n",
    "            #add the image and steering angle to the batch\n",
    "            images.append(center_image)\n",
    "            images.append(left_image)\n",
    "            images.append(right_image)\n",
    "            \n",
    "            steers.append(steering_angle)\n",
    "            steers.append(steering_angle+0.02)\n",
    "            steers.append(steering_angle-0.02)\n",
    "            \n",
    "            batch_count = batch_count + 1\n",
    "            \n",
    "            if batch_count == batch_size:\n",
    "                batch_count = 0\n",
    "                yield (np.array(images),np.array(steers))\n",
    "                images = list() \n",
    "                steers = list()\n",
    "            "
   ]
  },
  {
   "cell_type": "code",
   "execution_count": null,
   "metadata": {},
   "outputs": [],
   "source": []
  },
  {
   "cell_type": "code",
   "execution_count": 17,
   "metadata": {},
   "outputs": [],
   "source": [
    "#generator = batch_generator(X_train, y_train, batch_size = 10)"
   ]
  },
  {
   "cell_type": "code",
   "execution_count": 18,
   "metadata": {},
   "outputs": [],
   "source": [
    "#print(next(generator))"
   ]
  },
  {
   "cell_type": "code",
   "execution_count": 12,
   "metadata": {},
   "outputs": [
    {
     "name": "stdout",
     "output_type": "stream",
     "text": [
      "Model: \"sequential\"\n",
      "_________________________________________________________________\n",
      "Layer (type)                 Output Shape              Param #   \n",
      "=================================================================\n",
      "conv2d (Conv2D)              (None, 32, 64, 24)        1824      \n",
      "_________________________________________________________________\n",
      "conv2d_1 (Conv2D)            (None, 7, 13, 36)         21636     \n",
      "_________________________________________________________________\n",
      "conv2d_2 (Conv2D)            (None, 2, 3, 48)          43248     \n",
      "_________________________________________________________________\n",
      "conv2d_3 (Conv2D)            (None, 1, 1, 64)          27712     \n",
      "_________________________________________________________________\n",
      "conv2d_4 (Conv2D)            (None, 1, 1, 64)          36928     \n",
      "_________________________________________________________________\n",
      "dropout (Dropout)            (None, 1, 1, 64)          0         \n",
      "_________________________________________________________________\n",
      "flatten (Flatten)            (None, 64)                0         \n",
      "_________________________________________________________________\n",
      "dense (Dense)                (None, 100)               6500      \n",
      "_________________________________________________________________\n",
      "dense_1 (Dense)              (None, 50)                5050      \n",
      "_________________________________________________________________\n",
      "dense_2 (Dense)              (None, 10)                510       \n",
      "_________________________________________________________________\n",
      "dense_3 (Dense)              (None, 1)                 11        \n",
      "=================================================================\n",
      "Total params: 143,419\n",
      "Trainable params: 143,419\n",
      "Non-trainable params: 0\n",
      "_________________________________________________________________\n"
     ]
    }
   ],
   "source": [
    "#build model\n",
    "model = build_model()"
   ]
  },
  {
   "cell_type": "code",
   "execution_count": 13,
   "metadata": {},
   "outputs": [
    {
     "name": "stdout",
     "output_type": "stream",
     "text": [
      "Epoch 1/20\n",
      "242/242 [==============================] - 26s 80ms/step - loss: 0.2251 - accuracy: 0.1723\n",
      "Epoch 2/20\n",
      "242/242 [==============================] - 16s 65ms/step - loss: 0.2245 - accuracy: 0.1733\n",
      "Epoch 3/20\n",
      "242/242 [==============================] - 17s 68ms/step - loss: 0.2221 - accuracy: 0.1749\n",
      "Epoch 4/20\n",
      "242/242 [==============================] - 16s 67ms/step - loss: 0.2123 - accuracy: 0.1757\n",
      "Epoch 5/20\n",
      "242/242 [==============================] - 16s 66ms/step - loss: 0.2048 - accuracy: 0.1751\n",
      "Epoch 6/20\n",
      "242/242 [==============================] - 32s 134ms/step - loss: 0.1970 - accuracy: 0.1742\n",
      "Epoch 7/20\n",
      "242/242 [==============================] - 19s 80ms/step - loss: 0.1982 - accuracy: 0.1736\n",
      "Epoch 8/20\n",
      "242/242 [==============================] - 16s 68ms/step - loss: 0.1842 - accuracy: 0.1746\n",
      "Epoch 9/20\n",
      "242/242 [==============================] - 16s 67ms/step - loss: 0.1684 - accuracy: 0.1750\n",
      "Epoch 10/20\n",
      "242/242 [==============================] - 16s 68ms/step - loss: 0.1638 - accuracy: 0.1731\n",
      "Epoch 11/20\n",
      "242/242 [==============================] - 16s 68ms/step - loss: 0.1541 - accuracy: 0.1742\n",
      "Epoch 12/20\n",
      "242/242 [==============================] - 16s 68ms/step - loss: 0.1478 - accuracy: 0.1744\n",
      "Epoch 13/20\n",
      "242/242 [==============================] - 17s 68ms/step - loss: 0.1405 - accuracy: 0.1743\n",
      "Epoch 14/20\n",
      "242/242 [==============================] - 16s 67ms/step - loss: 0.1393 - accuracy: 0.1758\n",
      "Epoch 15/20\n",
      "242/242 [==============================] - 16s 68ms/step - loss: 0.1394 - accuracy: 0.1751\n",
      "Epoch 16/20\n",
      "242/242 [==============================] - 16s 68ms/step - loss: 0.1438 - accuracy: 0.1742\n",
      "Epoch 17/20\n",
      "242/242 [==============================] - 17s 68ms/step - loss: 0.1396 - accuracy: 0.1746\n",
      "Epoch 18/20\n",
      "242/242 [==============================] - 16s 67ms/step - loss: 0.1393 - accuracy: 0.1751\n",
      "Epoch 19/20\n",
      "242/242 [==============================] - 17s 71ms/step - loss: 0.1350 - accuracy: 0.1771\n",
      "Epoch 20/20\n",
      "242/242 [==============================] - 16s 67ms/step - loss: 0.1280 - accuracy: 0.1761\n",
      "Wall time: 5min 58s\n"
     ]
    }
   ],
   "source": [
    "%%time\n",
    "\n",
    "# training model on data \n",
    "model.compile(loss='mean_squared_error', optimizer='Adam',metrics=['accuracy'])\n",
    "    \n",
    "batch_size = 10\n",
    "steps = X.shape[0]//batch_size\n",
    "\n",
    "#Fits the model on data generated batch-by-batch by a Python generator.\n",
    "generator = batch_generator(X, y, batch_size=10)\n",
    "\n",
    "model_history = model.fit(\n",
    "                            generator,\n",
    "                            epochs = 20,\n",
    "                            steps_per_epoch=steps,\n",
    "                         )"
   ]
  },
  {
   "cell_type": "code",
   "execution_count": 14,
   "metadata": {},
   "outputs": [],
   "source": [
    "model.save('model_v1_3.h5')"
   ]
  },
  {
   "cell_type": "code",
   "execution_count": 16,
   "metadata": {},
   "outputs": [
    {
     "data": {
      "text/plain": [
       "dict_keys(['loss', 'accuracy'])"
      ]
     },
     "execution_count": 16,
     "metadata": {},
     "output_type": "execute_result"
    }
   ],
   "source": [
    "model_history.history.keys()"
   ]
  },
  {
   "cell_type": "code",
   "execution_count": 15,
   "metadata": {},
   "outputs": [
    {
     "data": {
      "text/plain": [
       "[<matplotlib.lines.Line2D at 0x25e9bee4a00>]"
      ]
     },
     "execution_count": 15,
     "metadata": {},
     "output_type": "execute_result"
    },
    {
     "data": {
      "image/png": "[encoded data removed]",
      "text/plain": [
       "<Figure size 432x288 with 1 Axes>"
      ]
     },
     "metadata": {
      "needs_background": "light"
     },
     "output_type": "display_data"
    }
   ],
   "source": [
    "plt.plot(model_history.history['accuracy'])"
   ]
  },
  {
   "cell_type": "code",
   "execution_count": 16,
   "metadata": {},
   "outputs": [
    {
     "data": {
      "text/plain": [
       "[<matplotlib.lines.Line2D at 0x25e9c5237f0>]"
      ]
     },
     "execution_count": 16,
     "metadata": {},
     "output_type": "execute_result"
    },
    {
     "data": {
      "image/png": "[encoded data removed]",
      "text/plain": [
       "<Figure size 432x288 with 1 Axes>"
      ]
     },
     "metadata": {
      "needs_background": "light"
     },
     "output_type": "display_data"
    }
   ],
   "source": [
    "plt.plot(model_history.history['loss'])"
   ]
  },
  {
   "cell_type": "code",
   "execution_count": null,
   "metadata": {},
   "outputs": [],
   "source": []
  },
  {
   "cell_type": "code",
   "execution_count": null,
   "metadata": {},
   "outputs": [],
   "source": []
  },
  {
   "cell_type": "code",
   "execution_count": null,
   "metadata": {},
   "outputs": [],
   "source": []
  },
  {
   "cell_type": "code",
   "execution_count": 3,
   "metadata": {},
   "outputs": [],
   "source": [
    "data1 = pd.read_csv('driving_log_simple.csv',names=['center', 'left', 'right', 'steering', 'throttle', 'reverse', 'speed'])"
   ]
  },
  {
   "cell_type": "code",
   "execution_count": 4,
   "metadata": {},
   "outputs": [],
   "source": [
    "X1 = data1[['center', 'left', 'right']].values\n",
    "\n",
    "y1 = data1['steering'].values"
   ]
  },
  {
   "cell_type": "code",
   "execution_count": 8,
   "metadata": {},
   "outputs": [],
   "source": [
    "model = load_model('model_v1_3.h5')"
   ]
  },
  {
   "cell_type": "code",
   "execution_count": 10,
   "metadata": {},
   "outputs": [
    {
     "name": "stdout",
     "output_type": "stream",
     "text": [
      "Epoch 1/25\n",
      "163/163 [==============================] - 93s 245ms/step - loss: 0.0297 - accuracy: 0.2603\n",
      "Epoch 2/25\n",
      "163/163 [==============================] - 16s 96ms/step - loss: 0.0263 - accuracy: 0.2604\n",
      "Epoch 3/25\n",
      "163/163 [==============================] - 16s 97ms/step - loss: 0.0251 - accuracy: 0.2604\n",
      "Epoch 4/25\n",
      "163/163 [==============================] - 16s 99ms/step - loss: 0.0252 - accuracy: 0.2604\n",
      "Epoch 5/25\n",
      "163/163 [==============================] - 16s 98ms/step - loss: 0.0255 - accuracy: 0.2604\n",
      "Epoch 6/25\n",
      "163/163 [==============================] - 16s 97ms/step - loss: 0.0253 - accuracy: 0.2604\n",
      "Epoch 7/25\n",
      "163/163 [==============================] - 16s 97ms/step - loss: 0.0258 - accuracy: 0.2604\n",
      "Epoch 8/25\n",
      "163/163 [==============================] - 16s 97ms/step - loss: 0.0255 - accuracy: 0.2604\n",
      "Epoch 9/25\n",
      "163/163 [==============================] - 16s 97ms/step - loss: 0.0258 - accuracy: 0.2604\n",
      "Epoch 10/25\n",
      "163/163 [==============================] - 17s 104ms/step - loss: 0.0260 - accuracy: 0.2604\n",
      "Epoch 11/25\n",
      "163/163 [==============================] - 18s 108ms/step - loss: 0.0257 - accuracy: 0.2604\n",
      "Epoch 12/25\n",
      "163/163 [==============================] - 17s 103ms/step - loss: 0.0262 - accuracy: 0.2604\n",
      "Epoch 13/25\n",
      "163/163 [==============================] - 16s 99ms/step - loss: 0.0259 - accuracy: 0.2604\n",
      "Epoch 14/25\n",
      "163/163 [==============================] - 16s 98ms/step - loss: 0.0259 - accuracy: 0.2604\n",
      "Epoch 15/25\n",
      "163/163 [==============================] - 16s 97ms/step - loss: 0.0258 - accuracy: 0.2604\n",
      "Epoch 16/25\n",
      "163/163 [==============================] - 16s 98ms/step - loss: 0.0260 - accuracy: 0.2604\n",
      "Epoch 17/25\n",
      "163/163 [==============================] - 16s 97ms/step - loss: 0.0259 - accuracy: 0.2604\n",
      "Epoch 18/25\n",
      "163/163 [==============================] - 16s 97ms/step - loss: 0.0253 - accuracy: 0.2604\n",
      "Epoch 19/25\n",
      "163/163 [==============================] - 16s 97ms/step - loss: 0.0237 - accuracy: 0.2604\n",
      "Epoch 20/25\n",
      "163/163 [==============================] - 16s 97ms/step - loss: 0.0269 - accuracy: 0.2604\n",
      "Epoch 21/25\n",
      "163/163 [==============================] - 16s 97ms/step - loss: 0.0259 - accuracy: 0.2604\n",
      "Epoch 22/25\n",
      "163/163 [==============================] - 16s 98ms/step - loss: 0.0266 - accuracy: 0.2604\n",
      "Epoch 23/25\n",
      "163/163 [==============================] - 18s 111ms/step - loss: 0.0266 - accuracy: 0.2604\n",
      "Epoch 24/25\n",
      "163/163 [==============================] - 18s 108ms/step - loss: 0.0256 - accuracy: 0.2604\n",
      "Epoch 25/25\n",
      "163/163 [==============================] - 16s 100ms/step - loss: 0.0253 - accuracy: 0.2604\n"
     ]
    }
   ],
   "source": [
    "batch_size = 10\n",
    "steps1 = X1.shape[0]//batch_size\n",
    "\n",
    "#Fits the model on data generated batch-by-batch by a Python generator.\n",
    "generator1 = batch_generator(X1, y1, batch_size=10)\n",
    "\n",
    "model_history1 = model.fit(\n",
    "                            generator1,\n",
    "                            epochs = 25,\n",
    "                            steps_per_epoch=steps1,\n",
    "                         )"
   ]
  },
  {
   "cell_type": "code",
   "execution_count": 11,
   "metadata": {},
   "outputs": [],
   "source": [
    "model.save('model_v1_3_1.h5')"
   ]
  },
  {
   "cell_type": "code",
   "execution_count": null,
   "metadata": {},
   "outputs": [],
   "source": []
  },
  {
   "cell_type": "code",
   "execution_count": null,
   "metadata": {},
   "outputs": [],
   "source": []
  },
  {
   "cell_type": "code",
   "execution_count": 8,
   "metadata": {},
   "outputs": [],
   "source": [
    "def brightness(image):\n",
    "    \"\"\"\n",
    "    adjust brightness of the image.\n",
    "    \"\"\"\n",
    "    # HSV (Hue, Saturation, Value) is also called HSB ('B' for Brightness).\n",
    "    hsv = cv2.cvtColor(image, cv2.COLOR_RGB2HSV)\n",
    "    ratio = 1.0 + 0.4 * (np.random.rand() - 0.5)\n",
    "    hsv[:,:,2] =  hsv[:,:,2] * ratio\n",
    "    return cv2.cvtColor(hsv, cv2.COLOR_HSV2RGB)\n",
    "\n",
    "def random_translate(image, steering_angle, range_x, range_y):\n",
    "    \"\"\"\n",
    "    Randomly shift the image virtially and horizontally (translation).\n",
    "    \"\"\"\n",
    "    trans_x = range_x * (np.random.rand() - 0.5)\n",
    "    trans_y = range_y * (np.random.rand() - 0.5)\n",
    "    steering_angle += trans_x * 0.002\n",
    "    trans_m = np.float32([[1, 0, trans_x], [0, 1, trans_y]])\n",
    "    height, width = image.shape[:2]\n",
    "    image = cv2.warpAffine(image, trans_m, (width, height))\n",
    "    return image, steering_angle\n",
    "\n",
    "def flip(image, steering_angle):\n",
    "    \"\"\"\n",
    "    flipt the image left <-> right, and adjust the steering angle.\n",
    "    \"\"\"\n",
    "    image = cv2.flip(image, 1)\n",
    "    steering_angle = -steering_angle\n",
    "    return image, steering_angle\n",
    "\n",
    "def random_shadow(image):\n",
    "    \"\"\"\n",
    "    Generates and adds random shadow\n",
    "    \"\"\"\n",
    "    # (x1, y1) and (x2, y2) forms a line\n",
    "    # xm, ym gives all the locations of the image\n",
    "    x1, y1 = IMAGE_WIDTH * np.random.rand(), 0\n",
    "    x2, y2 = IMAGE_WIDTH * np.random.rand(), IMAGE_HEIGHT\n",
    "    xm, ym = np.mgrid[0:IMAGE_HEIGHT, 0:IMAGE_WIDTH]\n",
    "\n",
    "    # mathematically speaking, we want to set 1 below the line and zero otherwise\n",
    "    # Our coordinate is up side down.  So, the above the line: \n",
    "    # (ym-y1)/(xm-x1) > (y2-y1)/(x2-x1)\n",
    "    # as x2 == x1 causes zero-division problem, we'll write it in the below form:\n",
    "    # (ym-y1)*(x2-x1) - (y2-y1)*(xm-x1) > 0\n",
    "    mask = np.zeros_like(image[:, :, 1])\n",
    "    mask[(ym - y1) * (x2 - x1) - (y2 - y1) * (xm - x1) > 0] = 1\n",
    "\n",
    "    # choose which side should have shadow and adjust saturation\n",
    "    cond = mask == np.random.randint(2)\n",
    "    s_ratio = np.random.uniform(low=0.2, high=0.5)\n",
    "    #s_ratio = np.array(s_ratio,dtype=np.uint8)\n",
    "    # adjust Saturation in HLS(Hue, Light, Saturation)\n",
    "    \n",
    "    hls = cv2.cvtColor(image, cv2.COLOR_RGB2HLS)\n",
    "    hls[:, :, 1][cond] = hls[:, :, 1][cond] * s_ratio\n",
    "    return cv2.cvtColor(hls, cv2.COLOR_HLS2RGB)\n",
    "\n"
   ]
  },
  {
   "cell_type": "code",
   "execution_count": 9,
   "metadata": {},
   "outputs": [],
   "source": [
    "def batch_generator1(X_train, y_train, batch_size):\n",
    "    \"\"\"\n",
    "    Generate training image and associated steering angles\n",
    "    \"\"\"\n",
    "    images = list()\n",
    "    steers = list()\n",
    "\n",
    "    while 1:\n",
    "        batch_count = 0\n",
    "        for index in range(X_train.shape[0]):\n",
    "        \n",
    "            center, left, right = X_train[index]\n",
    "            steering_angle = y_train[index]\n",
    "            \n",
    "            # image preprocess\n",
    "            center_image = Preprocess(center)\n",
    "            left_image = Preprocess(left)\n",
    "            right_image = Preprocess(right)\n",
    "                \n",
    "            #add the image and steering angle to the batch\n",
    "            images.append(center_image/255)\n",
    "            images.append(left_image/255)\n",
    "            images.append(right_image/255)\n",
    "            \n",
    "            steers.append(steering_angle)\n",
    "            steers.append(steering_angle+0.25)\n",
    "            steers.append(steering_angle-0.25)\n",
    "            \n",
    "            #Data augmentation \n",
    "            \n",
    "            #adding some shadow\n",
    "            random_shadow_image = random_shadow(center_image)\n",
    "            images.append(random_shadow_image/255)\n",
    "            steers.append(steering_angle)\n",
    "            \n",
    "            #adding some brightness\n",
    "            random_brightness_image = brightness(center_image)\n",
    "            images.append(random_brightness_image/255)\n",
    "            steers.append(steering_angle)\n",
    "            \n",
    "            #translating the image\n",
    "            random_translate_image, random_translate_steering_angle = random_translate(center_image,steering_angle,50,50)\n",
    "            images.append(random_translate_image/255)\n",
    "            steers.append(random_translate_steering_angle)\n",
    "            \n",
    "            #fliping the image\n",
    "            flipped_image, flipped_steering_angle = flip(center_image,steering_angle)\n",
    "            images.append(flipped_image/255)\n",
    "            steers.append(flipped_steering_angle)\n",
    "            \n",
    "            batch_count = batch_count + 1\n",
    "            \n",
    "            if batch_count == batch_size:\n",
    "                batch_count = 0\n",
    "                yield (np.array(images),np.array(steers))\n",
    "                images = list() \n",
    "                steers = list()\n",
    "            "
   ]
  },
  {
   "cell_type": "code",
   "execution_count": 21,
   "metadata": {},
   "outputs": [
    {
     "name": "stdout",
     "output_type": "stream",
     "text": [
      "Epoch 1/25\n",
      "163/163 [==============================] - 31s 194ms/step - loss: 0.0367 - accuracy: 0.4499\n",
      "Epoch 2/25\n",
      "163/163 [==============================] - 29s 179ms/step - loss: 0.0294 - accuracy: 0.4500\n",
      "Epoch 3/25\n",
      "163/163 [==============================] - 29s 179ms/step - loss: 0.0332 - accuracy: 0.4500\n",
      "Epoch 4/25\n",
      "163/163 [==============================] - ETA: 0s - loss: 0.0308 - accuracy: 0.45 - 29s 178ms/step - loss: 0.0308 - accuracy: 0.4500\n",
      "Epoch 5/25\n",
      "163/163 [==============================] - 29s 179ms/step - loss: 0.0259 - accuracy: 0.4500\n",
      "Epoch 6/25\n",
      "163/163 [==============================] - 29s 180ms/step - loss: 0.0248 - accuracy: 0.4500\n",
      "Epoch 7/25\n",
      "163/163 [==============================] - 29s 179ms/step - loss: 0.0240 - accuracy: 0.4500\n",
      "Epoch 8/25\n",
      "163/163 [==============================] - 29s 179ms/step - loss: 0.0232 - accuracy: 0.4500\n",
      "Epoch 9/25\n",
      "163/163 [==============================] - 30s 184ms/step - loss: 0.0220 - accuracy: 0.4500\n",
      "Epoch 10/25\n",
      "163/163 [==============================] - 30s 182ms/step - loss: 0.0220 - accuracy: 0.4500s - loss:\n",
      "Epoch 11/25\n",
      "163/163 [==============================] - 29s 180ms/step - loss: 0.0217 - accuracy: 0.4500\n",
      "Epoch 12/25\n",
      "163/163 [==============================] - 30s 181ms/step - loss: 0.0207 - accuracy: 0.4500s - loss: 0.0212 - accu\n",
      "Epoch 13/25\n",
      "163/163 [==============================] - 30s 181ms/step - loss: 0.0205 - accuracy: 0.4500\n",
      "Epoch 14/25\n",
      "163/163 [==============================] - 30s 181ms/step - loss: 0.0197 - accuracy: 0.4500\n",
      "Epoch 15/25\n",
      "163/163 [==============================] - 29s 180ms/step - loss: 0.0203 - accuracy: 0.4501\n",
      "Epoch 16/25\n",
      "163/163 [==============================] - 29s 180ms/step - loss: 0.0187 - accuracy: 0.4502\n",
      "Epoch 17/25\n",
      "163/163 [==============================] - 30s 182ms/step - loss: 0.0182 - accuracy: 0.4503\n",
      "Epoch 18/25\n",
      "163/163 [==============================] - 30s 182ms/step - loss: 0.0175 - accuracy: 0.4503\n",
      "Epoch 19/25\n",
      "163/163 [==============================] - 29s 180ms/step - loss: 0.0177 - accuracy: 0.4503\n",
      "Epoch 20/25\n",
      "163/163 [==============================] - 30s 182ms/step - loss: 0.0172 - accuracy: 0.4503\n",
      "Epoch 21/25\n",
      "163/163 [==============================] - 29s 180ms/step - loss: 0.0168 - accuracy: 0.4500\n",
      "Epoch 22/25\n",
      "163/163 [==============================] - 29s 181ms/step - loss: 0.0171 - accuracy: 0.4502\n",
      "Epoch 23/25\n",
      "163/163 [==============================] - 30s 182ms/step - loss: 0.0173 - accuracy: 0.4502\n",
      "Epoch 24/25\n",
      "163/163 [==============================] - 29s 180ms/step - loss: 0.0171 - accuracy: 0.4503s - loss:\n",
      "Epoch 25/25\n",
      "163/163 [==============================] - 30s 185ms/step - loss: 0.0177 - accuracy: 0.4500\n"
     ]
    }
   ],
   "source": [
    "batch_size = 10\n",
    "steps1 = X1.shape[0]//batch_size\n",
    "\n",
    "#Fits the model on data generated batch-by-batch by a Python generator.\n",
    "generator1 = batch_generator1(X1, y1, batch_size=10)\n",
    "\n",
    "model_history2 = model.fit(\n",
    "                            generator1,\n",
    "                            epochs = 25,\n",
    "                            steps_per_epoch=steps1,\n",
    "                         )"
   ]
  },
  {
   "cell_type": "code",
   "execution_count": 22,
   "metadata": {},
   "outputs": [],
   "source": [
    "model.save('model_v1_3_2.h5')"
   ]
  },
  {
   "cell_type": "code",
   "execution_count": 25,
   "metadata": {},
   "outputs": [
    {
     "data": {
      "text/plain": [
       "[<matplotlib.lines.Line2D at 0x234820f5430>]"
      ]
     },
     "execution_count": 25,
     "metadata": {},
     "output_type": "execute_result"
    },
    {
     "data": {
      "image/png": "[encoded data removed]",
      "text/plain": [
       "<Figure size 432x288 with 1 Axes>"
      ]
     },
     "metadata": {
      "needs_background": "light"
     },
     "output_type": "display_data"
    }
   ],
   "source": [
    "plt.plot(model_history2.history['loss'])"
   ]
  },
  {
   "cell_type": "code",
   "execution_count": null,
   "metadata": {},
   "outputs": [],
   "source": []
  },
  {
   "cell_type": "code",
   "execution_count": null,
   "metadata": {},
   "outputs": [],
   "source": []
  },
  {
   "cell_type": "code",
   "execution_count": null,
   "metadata": {},
   "outputs": [],
   "source": []
  },
  {
   "cell_type": "code",
   "execution_count": 10,
   "metadata": {},
   "outputs": [],
   "source": [
    "model = load_model('model_v1_3_2.h5')"
   ]
  },
  {
   "cell_type": "code",
   "execution_count": 11,
   "metadata": {},
   "outputs": [
    {
     "name": "stdout",
     "output_type": "stream",
     "text": [
      "Epoch 1/25\n",
      "242/242 [==============================] - 57s 202ms/step - loss: 0.2288 - accuracy: 0.3044\n",
      "Epoch 2/25\n",
      "242/242 [==============================] - 43s 175ms/step - loss: 0.2254 - accuracy: 0.3045\n",
      "Epoch 3/25\n",
      "242/242 [==============================] - 44s 181ms/step - loss: 0.2255 - accuracy: 0.3045\n",
      "Epoch 4/25\n",
      "242/242 [==============================] - 43s 175ms/step - loss: 0.2243 - accuracy: 0.3045\n",
      "Epoch 5/25\n",
      "242/242 [==============================] - 43s 179ms/step - loss: 0.2241 - accuracy: 0.3045\n",
      "Epoch 6/25\n",
      "242/242 [==============================] - 43s 177ms/step - loss: 0.2239 - accuracy: 0.3045\n",
      "Epoch 7/25\n",
      "242/242 [==============================] - 43s 179ms/step - loss: 0.2236 - accuracy: 0.3045\n",
      "Epoch 8/25\n",
      "242/242 [==============================] - 43s 178ms/step - loss: 0.2238 - accuracy: 0.3045s - l\n",
      "Epoch 9/25\n",
      "242/242 [==============================] - 43s 176ms/step - loss: 0.2225 - accuracy: 0.3039s - loss: 0.2233 - accuracy: 0.\n",
      "Epoch 10/25\n",
      "242/242 [==============================] - 43s 176ms/step - loss: 0.2386 - accuracy: 0.3035s - loss: 0.2433 \n",
      "Epoch 11/25\n",
      "242/242 [==============================] - 47s 195ms/step - loss: 0.2234 - accuracy: 0.3045\n",
      "Epoch 12/25\n",
      "242/242 [==============================] - 44s 181ms/step - loss: 0.2233 - accuracy: 0.3045\n",
      "Epoch 13/25\n",
      "242/242 [==============================] - 43s 179ms/step - loss: 0.2234 - accuracy: 0.3045\n",
      "Epoch 14/25\n",
      "242/242 [==============================] - 44s 180ms/step - loss: 0.2234 - accuracy: 0.3045\n",
      "Epoch 15/25\n",
      "242/242 [==============================] - 43s 179ms/step - loss: 0.2235 - accuracy: 0.3045\n",
      "Epoch 16/25\n",
      "242/242 [==============================] - 44s 180ms/step - loss: 0.2234 - accuracy: 0.3045\n",
      "Epoch 17/25\n",
      "242/242 [==============================] - 44s 180ms/step - loss: 0.2235 - accuracy: 0.3045\n",
      "Epoch 18/25\n",
      "242/242 [==============================] - 43s 180ms/step - loss: 0.2236 - accuracy: 0.3045\n",
      "Epoch 19/25\n",
      "242/242 [==============================] - 43s 179ms/step - loss: 0.2235 - accuracy: 0.3045\n",
      "Epoch 20/25\n",
      "242/242 [==============================] - 43s 177ms/step - loss: 0.2234 - accuracy: 0.3045\n",
      "Epoch 21/25\n",
      "242/242 [==============================] - 44s 182ms/step - loss: 0.2234 - accuracy: 0.3045\n",
      "Epoch 22/25\n",
      "242/242 [==============================] - 44s 180ms/step - loss: 0.2236 - accuracy: 0.3045\n",
      "Epoch 23/25\n",
      "242/242 [==============================] - 43s 179ms/step - loss: 0.2236 - accuracy: 0.3045\n",
      "Epoch 24/25\n",
      "242/242 [==============================] - 43s 179ms/step - loss: 0.2235 - accuracy: 0.3045s - loss: 0.2276 - accu\n",
      "Epoch 25/25\n",
      "242/242 [==============================] - 43s 179ms/step - loss: 0.2234 - accuracy: 0.3045\n"
     ]
    }
   ],
   "source": [
    "batch_size = 10\n",
    "steps1 = X.shape[0]//batch_size\n",
    "\n",
    "#Fits the model on data generated batch-by-batch by a Python generator.\n",
    "generator1 = batch_generator1(X, y, batch_size=10)\n",
    "\n",
    "model_history2 = model.fit(\n",
    "                            generator1,\n",
    "                            epochs = 25,\n",
    "                            steps_per_epoch=steps1,\n",
    "                         )"
   ]
  },
  {
   "cell_type": "code",
   "execution_count": 12,
   "metadata": {},
   "outputs": [],
   "source": [
    "model.save('model_v1_3_3.h5')"
   ]
  },
  {
   "cell_type": "code",
   "execution_count": 14,
   "metadata": {},
   "outputs": [
    {
     "data": {
      "text/plain": [
       "[<matplotlib.lines.Line2D at 0x1d8ccc39160>]"
      ]
     },
     "execution_count": 14,
     "metadata": {},
     "output_type": "execute_result"
    },
    {
     "data": {
      "image/png": "[encoded data removed]",
      "text/plain": [
       "<Figure size 432x288 with 1 Axes>"
      ]
     },
     "metadata": {
      "needs_background": "light"
     },
     "output_type": "display_data"
    }
   ],
   "source": [
    "plt.plot(model_history2.history['loss'])"
   ]
  },
  {
   "cell_type": "code",
   "execution_count": null,
   "metadata": {},
   "outputs": [],
   "source": []
  }
 ],
 "metadata": {
  "kernelspec": {
   "display_name": "Python 3",
   "language": "python",
   "name": "python3"
  },
  "language_info": {
   "codemirror_mode": {
    "name": "ipython",
    "version": 3
   },
   "file_extension": ".py",
   "mimetype": "text/x-python",
   "name": "python",
   "nbconvert_exporter": "python",
   "pygments_lexer": "ipython3",
   "version": "3.8.5"
  }
 },
 "nbformat": 4,
 "nbformat_minor": 4
}
