{
 "cells": [
  {
   "cell_type": "markdown",
   "metadata": {},
   "source": [
    "## Importing Important packages"
   ]
  },
  {
   "cell_type": "code",
   "execution_count": 1,
   "metadata": {},
   "outputs": [],
   "source": [
    "import pandas as pd\n",
    "import numpy as np\n",
    "import matplotlib.pyplot as plt\n",
    "import matplotlib.image as mpimg\n",
    "%matplotlib inline\n",
    "import cv2\n",
    "\n",
    "from sklearn.model_selection import train_test_split\n",
    "\n",
    "import tensorflow as tf\n",
    "from tensorflow import keras\n",
    "from tensorflow.keras.models import Sequential\n",
    "from tensorflow.keras.optimizers import Adam\n",
    "from tensorflow.keras.callbacks import ModelCheckpoint\n",
    "from tensorflow.keras.layers import Lambda, Conv2D, MaxPooling2D, Dropout, Dense, Flatten\n",
    "from tensorflow.keras.utils import plot_model\n",
    "from keras.models import load_model\n",
    "\n",
    "import os #for reading files"
   ]
  },
  {
   "cell_type": "markdown",
   "metadata": {},
   "source": [
    "Activating the GPU for fast Training"
   ]
  },
  {
   "cell_type": "code",
   "execution_count": 2,
   "metadata": {},
   "outputs": [],
   "source": [
    "physical_device = tf.config.list_physical_devices(\"GPU\")\n",
    "tf.config.experimental.set_memory_growth(physical_device[0],True)"
   ]
  },
  {
   "cell_type": "markdown",
   "metadata": {},
   "source": [
    "## Data Loading and Prepare it to feed in model"
   ]
  },
  {
   "cell_type": "code",
   "execution_count": 3,
   "metadata": {},
   "outputs": [],
   "source": [
    "data = pd.read_csv('driving_log_hardTrack.csv',names=['center', 'left', 'right', 'steering', 'throttle', 'reverse', 'speed'])"
   ]
  },
  {
   "cell_type": "code",
   "execution_count": 4,
   "metadata": {},
   "outputs": [
    {
     "data": {
      "text/plain": [
       "(3146, 7)"
      ]
     },
     "execution_count": 4,
     "metadata": {},
     "output_type": "execute_result"
    }
   ],
   "source": [
    "data.shape"
   ]
  },
  {
   "cell_type": "code",
   "execution_count": 5,
   "metadata": {},
   "outputs": [
    {
     "data": {
      "text/html": [
       "<div>\n",
       "<style scoped>\n",
       "    .dataframe tbody tr th:only-of-type {\n",
       "        vertical-align: middle;\n",
       "    }\n",
       "\n",
       "    .dataframe tbody tr th {\n",
       "        vertical-align: top;\n",
       "    }\n",
       "\n",
       "    .dataframe thead th {\n",
       "        text-align: right;\n",
       "    }\n",
       "</style>\n",
       "<table border=\"1\" class=\"dataframe\">\n",
       "  <thead>\n",
       "    <tr style=\"text-align: right;\">\n",
       "      <th></th>\n",
       "      <th>center</th>\n",
       "      <th>left</th>\n",
       "      <th>right</th>\n",
       "      <th>steering</th>\n",
       "      <th>throttle</th>\n",
       "      <th>reverse</th>\n",
       "      <th>speed</th>\n",
       "    </tr>\n",
       "  </thead>\n",
       "  <tbody>\n",
       "    <tr>\n",
       "      <th>0</th>\n",
       "      <td>C:\\Users\\suraj\\Desktop\\MinorProjectNITP2022\\IM...</td>\n",
       "      <td>C:\\Users\\suraj\\Desktop\\MinorProjectNITP2022\\IM...</td>\n",
       "      <td>C:\\Users\\suraj\\Desktop\\MinorProjectNITP2022\\IM...</td>\n",
       "      <td>0.0</td>\n",
       "      <td>0.0</td>\n",
       "      <td>0.0</td>\n",
       "      <td>0.000133</td>\n",
       "    </tr>\n",
       "    <tr>\n",
       "      <th>1</th>\n",
       "      <td>C:\\Users\\suraj\\Desktop\\MinorProjectNITP2022\\IM...</td>\n",
       "      <td>C:\\Users\\suraj\\Desktop\\MinorProjectNITP2022\\IM...</td>\n",
       "      <td>C:\\Users\\suraj\\Desktop\\MinorProjectNITP2022\\IM...</td>\n",
       "      <td>0.0</td>\n",
       "      <td>0.0</td>\n",
       "      <td>0.0</td>\n",
       "      <td>0.000202</td>\n",
       "    </tr>\n",
       "    <tr>\n",
       "      <th>2</th>\n",
       "      <td>C:\\Users\\suraj\\Desktop\\MinorProjectNITP2022\\IM...</td>\n",
       "      <td>C:\\Users\\suraj\\Desktop\\MinorProjectNITP2022\\IM...</td>\n",
       "      <td>C:\\Users\\suraj\\Desktop\\MinorProjectNITP2022\\IM...</td>\n",
       "      <td>0.0</td>\n",
       "      <td>0.0</td>\n",
       "      <td>0.0</td>\n",
       "      <td>0.000045</td>\n",
       "    </tr>\n",
       "    <tr>\n",
       "      <th>3</th>\n",
       "      <td>C:\\Users\\suraj\\Desktop\\MinorProjectNITP2022\\IM...</td>\n",
       "      <td>C:\\Users\\suraj\\Desktop\\MinorProjectNITP2022\\IM...</td>\n",
       "      <td>C:\\Users\\suraj\\Desktop\\MinorProjectNITP2022\\IM...</td>\n",
       "      <td>0.0</td>\n",
       "      <td>0.0</td>\n",
       "      <td>0.0</td>\n",
       "      <td>0.000030</td>\n",
       "    </tr>\n",
       "    <tr>\n",
       "      <th>4</th>\n",
       "      <td>C:\\Users\\suraj\\Desktop\\MinorProjectNITP2022\\IM...</td>\n",
       "      <td>C:\\Users\\suraj\\Desktop\\MinorProjectNITP2022\\IM...</td>\n",
       "      <td>C:\\Users\\suraj\\Desktop\\MinorProjectNITP2022\\IM...</td>\n",
       "      <td>0.0</td>\n",
       "      <td>0.0</td>\n",
       "      <td>0.0</td>\n",
       "      <td>0.000031</td>\n",
       "    </tr>\n",
       "    <tr>\n",
       "      <th>...</th>\n",
       "      <td>...</td>\n",
       "      <td>...</td>\n",
       "      <td>...</td>\n",
       "      <td>...</td>\n",
       "      <td>...</td>\n",
       "      <td>...</td>\n",
       "      <td>...</td>\n",
       "    </tr>\n",
       "    <tr>\n",
       "      <th>3141</th>\n",
       "      <td>C:\\Users\\suraj\\Desktop\\MinorProjectNITP2022\\IM...</td>\n",
       "      <td>C:\\Users\\suraj\\Desktop\\MinorProjectNITP2022\\IM...</td>\n",
       "      <td>C:\\Users\\suraj\\Desktop\\MinorProjectNITP2022\\IM...</td>\n",
       "      <td>0.0</td>\n",
       "      <td>0.0</td>\n",
       "      <td>0.0</td>\n",
       "      <td>24.124530</td>\n",
       "    </tr>\n",
       "    <tr>\n",
       "      <th>3142</th>\n",
       "      <td>C:\\Users\\suraj\\Desktop\\MinorProjectNITP2022\\IM...</td>\n",
       "      <td>C:\\Users\\suraj\\Desktop\\MinorProjectNITP2022\\IM...</td>\n",
       "      <td>C:\\Users\\suraj\\Desktop\\MinorProjectNITP2022\\IM...</td>\n",
       "      <td>0.0</td>\n",
       "      <td>0.0</td>\n",
       "      <td>0.0</td>\n",
       "      <td>23.930570</td>\n",
       "    </tr>\n",
       "    <tr>\n",
       "      <th>3143</th>\n",
       "      <td>C:\\Users\\suraj\\Desktop\\MinorProjectNITP2022\\IM...</td>\n",
       "      <td>C:\\Users\\suraj\\Desktop\\MinorProjectNITP2022\\IM...</td>\n",
       "      <td>C:\\Users\\suraj\\Desktop\\MinorProjectNITP2022\\IM...</td>\n",
       "      <td>0.0</td>\n",
       "      <td>0.0</td>\n",
       "      <td>0.0</td>\n",
       "      <td>23.786120</td>\n",
       "    </tr>\n",
       "    <tr>\n",
       "      <th>3144</th>\n",
       "      <td>C:\\Users\\suraj\\Desktop\\MinorProjectNITP2022\\IM...</td>\n",
       "      <td>C:\\Users\\suraj\\Desktop\\MinorProjectNITP2022\\IM...</td>\n",
       "      <td>C:\\Users\\suraj\\Desktop\\MinorProjectNITP2022\\IM...</td>\n",
       "      <td>0.0</td>\n",
       "      <td>0.0</td>\n",
       "      <td>0.0</td>\n",
       "      <td>23.594880</td>\n",
       "    </tr>\n",
       "    <tr>\n",
       "      <th>3145</th>\n",
       "      <td>C:\\Users\\suraj\\Desktop\\MinorProjectNITP2022\\IM...</td>\n",
       "      <td>C:\\Users\\suraj\\Desktop\\MinorProjectNITP2022\\IM...</td>\n",
       "      <td>C:\\Users\\suraj\\Desktop\\MinorProjectNITP2022\\IM...</td>\n",
       "      <td>0.0</td>\n",
       "      <td>0.0</td>\n",
       "      <td>0.0</td>\n",
       "      <td>23.439060</td>\n",
       "    </tr>\n",
       "  </tbody>\n",
       "</table>\n",
       "<p>3146 rows × 7 columns</p>\n",
       "</div>"
      ],
      "text/plain": [
       "                                                 center  \\\n",
       "0     C:\\Users\\suraj\\Desktop\\MinorProjectNITP2022\\IM...   \n",
       "1     C:\\Users\\suraj\\Desktop\\MinorProjectNITP2022\\IM...   \n",
       "2     C:\\Users\\suraj\\Desktop\\MinorProjectNITP2022\\IM...   \n",
       "3     C:\\Users\\suraj\\Desktop\\MinorProjectNITP2022\\IM...   \n",
       "4     C:\\Users\\suraj\\Desktop\\MinorProjectNITP2022\\IM...   \n",
       "...                                                 ...   \n",
       "3141  C:\\Users\\suraj\\Desktop\\MinorProjectNITP2022\\IM...   \n",
       "3142  C:\\Users\\suraj\\Desktop\\MinorProjectNITP2022\\IM...   \n",
       "3143  C:\\Users\\suraj\\Desktop\\MinorProjectNITP2022\\IM...   \n",
       "3144  C:\\Users\\suraj\\Desktop\\MinorProjectNITP2022\\IM...   \n",
       "3145  C:\\Users\\suraj\\Desktop\\MinorProjectNITP2022\\IM...   \n",
       "\n",
       "                                                   left  \\\n",
       "0     C:\\Users\\suraj\\Desktop\\MinorProjectNITP2022\\IM...   \n",
       "1     C:\\Users\\suraj\\Desktop\\MinorProjectNITP2022\\IM...   \n",
       "2     C:\\Users\\suraj\\Desktop\\MinorProjectNITP2022\\IM...   \n",
       "3     C:\\Users\\suraj\\Desktop\\MinorProjectNITP2022\\IM...   \n",
       "4     C:\\Users\\suraj\\Desktop\\MinorProjectNITP2022\\IM...   \n",
       "...                                                 ...   \n",
       "3141  C:\\Users\\suraj\\Desktop\\MinorProjectNITP2022\\IM...   \n",
       "3142  C:\\Users\\suraj\\Desktop\\MinorProjectNITP2022\\IM...   \n",
       "3143  C:\\Users\\suraj\\Desktop\\MinorProjectNITP2022\\IM...   \n",
       "3144  C:\\Users\\suraj\\Desktop\\MinorProjectNITP2022\\IM...   \n",
       "3145  C:\\Users\\suraj\\Desktop\\MinorProjectNITP2022\\IM...   \n",
       "\n",
       "                                                  right  steering  throttle  \\\n",
       "0     C:\\Users\\suraj\\Desktop\\MinorProjectNITP2022\\IM...       0.0       0.0   \n",
       "1     C:\\Users\\suraj\\Desktop\\MinorProjectNITP2022\\IM...       0.0       0.0   \n",
       "2     C:\\Users\\suraj\\Desktop\\MinorProjectNITP2022\\IM...       0.0       0.0   \n",
       "3     C:\\Users\\suraj\\Desktop\\MinorProjectNITP2022\\IM...       0.0       0.0   \n",
       "4     C:\\Users\\suraj\\Desktop\\MinorProjectNITP2022\\IM...       0.0       0.0   \n",
       "...                                                 ...       ...       ...   \n",
       "3141  C:\\Users\\suraj\\Desktop\\MinorProjectNITP2022\\IM...       0.0       0.0   \n",
       "3142  C:\\Users\\suraj\\Desktop\\MinorProjectNITP2022\\IM...       0.0       0.0   \n",
       "3143  C:\\Users\\suraj\\Desktop\\MinorProjectNITP2022\\IM...       0.0       0.0   \n",
       "3144  C:\\Users\\suraj\\Desktop\\MinorProjectNITP2022\\IM...       0.0       0.0   \n",
       "3145  C:\\Users\\suraj\\Desktop\\MinorProjectNITP2022\\IM...       0.0       0.0   \n",
       "\n",
       "      reverse      speed  \n",
       "0         0.0   0.000133  \n",
       "1         0.0   0.000202  \n",
       "2         0.0   0.000045  \n",
       "3         0.0   0.000030  \n",
       "4         0.0   0.000031  \n",
       "...       ...        ...  \n",
       "3141      0.0  24.124530  \n",
       "3142      0.0  23.930570  \n",
       "3143      0.0  23.786120  \n",
       "3144      0.0  23.594880  \n",
       "3145      0.0  23.439060  \n",
       "\n",
       "[3146 rows x 7 columns]"
      ]
     },
     "execution_count": 5,
     "metadata": {},
     "output_type": "execute_result"
    }
   ],
   "source": [
    "data"
   ]
  },
  {
   "cell_type": "code",
   "execution_count": 6,
   "metadata": {},
   "outputs": [],
   "source": [
    "X = data[['center', 'left', 'right']].values"
   ]
  },
  {
   "cell_type": "code",
   "execution_count": 7,
   "metadata": {},
   "outputs": [
    {
     "data": {
      "text/plain": [
       "array([['C:\\\\Users\\\\suraj\\\\Desktop\\\\MinorProjectNITP2022\\\\IMG\\\\center_2022_11_25_19_49_20_562.jpg',\n",
       "        'C:\\\\Users\\\\suraj\\\\Desktop\\\\MinorProjectNITP2022\\\\IMG\\\\left_2022_11_25_19_49_20_562.jpg',\n",
       "        'C:\\\\Users\\\\suraj\\\\Desktop\\\\MinorProjectNITP2022\\\\IMG\\\\right_2022_11_25_19_49_20_562.jpg'],\n",
       "       ['C:\\\\Users\\\\suraj\\\\Desktop\\\\MinorProjectNITP2022\\\\IMG\\\\center_2022_11_25_19_49_20_633.jpg',\n",
       "        'C:\\\\Users\\\\suraj\\\\Desktop\\\\MinorProjectNITP2022\\\\IMG\\\\left_2022_11_25_19_49_20_633.jpg',\n",
       "        'C:\\\\Users\\\\suraj\\\\Desktop\\\\MinorProjectNITP2022\\\\IMG\\\\right_2022_11_25_19_49_20_633.jpg'],\n",
       "       ['C:\\\\Users\\\\suraj\\\\Desktop\\\\MinorProjectNITP2022\\\\IMG\\\\center_2022_11_25_19_49_20_706.jpg',\n",
       "        'C:\\\\Users\\\\suraj\\\\Desktop\\\\MinorProjectNITP2022\\\\IMG\\\\left_2022_11_25_19_49_20_706.jpg',\n",
       "        'C:\\\\Users\\\\suraj\\\\Desktop\\\\MinorProjectNITP2022\\\\IMG\\\\right_2022_11_25_19_49_20_706.jpg'],\n",
       "       ...,\n",
       "       ['C:\\\\Users\\\\suraj\\\\Desktop\\\\MinorProjectNITP2022\\\\IMG\\\\center_2022_11_25_19_56_28_118.jpg',\n",
       "        'C:\\\\Users\\\\suraj\\\\Desktop\\\\MinorProjectNITP2022\\\\IMG\\\\left_2022_11_25_19_56_28_118.jpg',\n",
       "        'C:\\\\Users\\\\suraj\\\\Desktop\\\\MinorProjectNITP2022\\\\IMG\\\\right_2022_11_25_19_56_28_118.jpg'],\n",
       "       ['C:\\\\Users\\\\suraj\\\\Desktop\\\\MinorProjectNITP2022\\\\IMG\\\\center_2022_11_25_19_56_28_191.jpg',\n",
       "        'C:\\\\Users\\\\suraj\\\\Desktop\\\\MinorProjectNITP2022\\\\IMG\\\\left_2022_11_25_19_56_28_191.jpg',\n",
       "        'C:\\\\Users\\\\suraj\\\\Desktop\\\\MinorProjectNITP2022\\\\IMG\\\\right_2022_11_25_19_56_28_191.jpg'],\n",
       "       ['C:\\\\Users\\\\suraj\\\\Desktop\\\\MinorProjectNITP2022\\\\IMG\\\\center_2022_11_25_19_56_28_284.jpg',\n",
       "        'C:\\\\Users\\\\suraj\\\\Desktop\\\\MinorProjectNITP2022\\\\IMG\\\\left_2022_11_25_19_56_28_284.jpg',\n",
       "        'C:\\\\Users\\\\suraj\\\\Desktop\\\\MinorProjectNITP2022\\\\IMG\\\\right_2022_11_25_19_56_28_284.jpg']],\n",
       "      dtype=object)"
      ]
     },
     "execution_count": 7,
     "metadata": {},
     "output_type": "execute_result"
    }
   ],
   "source": [
    "X"
   ]
  },
  {
   "cell_type": "code",
   "execution_count": 8,
   "metadata": {},
   "outputs": [],
   "source": [
    "y = data['steering'].values"
   ]
  },
  {
   "cell_type": "code",
   "execution_count": 9,
   "metadata": {},
   "outputs": [],
   "source": [
    "def Preprocess(image):\n",
    "    \n",
    "    image = mpimg.imread(image) #Load RGB images from a file\n",
    "    image = image/255 # normalize pixels value between 0 & 1\n",
    "    return image"
   ]
  },
  {
   "cell_type": "code",
   "execution_count": 10,
   "metadata": {},
   "outputs": [],
   "source": [
    "def batch_generator(X_train, y_train, batch_size):\n",
    "    \"\"\"\n",
    "    Generate training image and associated steering angles\n",
    "    \"\"\"\n",
    "    images = list()\n",
    "    steers = list()\n",
    "\n",
    "    while 1:\n",
    "        batch_count = 0\n",
    "        for index in range(X_train.shape[0]):\n",
    "        \n",
    "            center, left, right = X_train[index]\n",
    "            steering_angle = y_train[index]\n",
    "            \n",
    "            # image preprocess\n",
    "            center_image = Preprocess(center)\n",
    "            left_image = Preprocess(left)\n",
    "            right_image = Preprocess(right)\n",
    "                \n",
    "            #add the image and steering angle to the batch\n",
    "            images.append(center_image)\n",
    "            images.append(left_image)\n",
    "            images.append(right_image)\n",
    "            \n",
    "            steers.append(steering_angle)\n",
    "            steers.append(steering_angle-0.001)\n",
    "            steers.append(steering_angle+0.001)\n",
    "            \n",
    "            batch_count = batch_count + 1\n",
    "            \n",
    "            if batch_count == batch_size:\n",
    "                batch_count = 0\n",
    "                yield (np.array(images),np.array(steers))\n",
    "                images = list() \n",
    "                steers = list()\n",
    "            "
   ]
  },
  {
   "cell_type": "code",
   "execution_count": 19,
   "metadata": {},
   "outputs": [
    {
     "name": "stdout",
     "output_type": "stream",
     "text": [
      "Epoch 1/20\n",
      "314/314 [==============================] - 41s 130ms/step - loss: 0.1955 - accuracy: 0.1999\n",
      "Epoch 2/20\n",
      "314/314 [==============================] - 39s 124ms/step - loss: 0.1759 - accuracy: 0.2017\n",
      "Epoch 3/20\n",
      "314/314 [==============================] - 42s 134ms/step - loss: 0.1751 - accuracy: 0.2017\n",
      "Epoch 4/20\n",
      "314/314 [==============================] - 36s 115ms/step - loss: 0.1748 - accuracy: 0.2017\n",
      "Epoch 5/20\n",
      "314/314 [==============================] - 42s 133ms/step - loss: 0.1745 - accuracy: 0.2017\n",
      "Epoch 6/20\n",
      "314/314 [==============================] - 36s 115ms/step - loss: 0.1745 - accuracy: 0.2017\n",
      "Epoch 7/20\n",
      "314/314 [==============================] - 38s 120ms/step - loss: 0.1771 - accuracy: 0.2015\n",
      "Epoch 8/20\n",
      "314/314 [==============================] - 36s 113ms/step - loss: 0.1738 - accuracy: 0.2017\n",
      "Epoch 9/20\n",
      "314/314 [==============================] - 35s 111ms/step - loss: 0.1741 - accuracy: 0.2017\n",
      "Epoch 10/20\n",
      "314/314 [==============================] - 35s 112ms/step - loss: 0.1739 - accuracy: 0.2017\n",
      "Epoch 11/20\n",
      "314/314 [==============================] - 35s 112ms/step - loss: 0.1739 - accuracy: 0.2017\n",
      "Epoch 12/20\n",
      "314/314 [==============================] - 35s 112ms/step - loss: 0.1740 - accuracy: 0.2017\n",
      "Epoch 13/20\n",
      "314/314 [==============================] - 35s 112ms/step - loss: 0.1740 - accuracy: 0.2017\n",
      "Epoch 14/20\n",
      "314/314 [==============================] - 36s 115ms/step - loss: 0.1741 - accuracy: 0.2017\n",
      "Epoch 15/20\n",
      "314/314 [==============================] - 35s 111ms/step - loss: 0.1742 - accuracy: 0.2017\n",
      "Epoch 16/20\n",
      "314/314 [==============================] - 35s 111ms/step - loss: 0.1742 - accuracy: 0.2017\n",
      "Epoch 17/20\n",
      "314/314 [==============================] - 35s 111ms/step - loss: 0.1743 - accuracy: 0.2017\n",
      "Epoch 18/20\n",
      "314/314 [==============================] - 35s 110ms/step - loss: 0.1743 - accuracy: 0.2017\n",
      "Epoch 19/20\n",
      "314/314 [==============================] - 35s 111ms/step - loss: 0.1743 - accuracy: 0.2017\n",
      "Epoch 20/20\n",
      "314/314 [==============================] - 35s 111ms/step - loss: 0.1744 - accuracy: 0.2017\n",
      "Wall time: 12min 12s\n"
     ]
    }
   ],
   "source": [
    "%%time\n",
    "\n",
    "model = load_model('model_v1.h5')\n",
    "    \n",
    "batch_size = 10\n",
    "steps = X.shape[0]//batch_size\n",
    "\n",
    "#Fits the model on data generated batch-by-batch by a Python generator.\n",
    "generator = batch_generator(X, y, batch_size=10)\n",
    "\n",
    "model_history = model.fit(\n",
    "                            generator,\n",
    "                            epochs = 20,\n",
    "                            steps_per_epoch=steps,\n",
    "                         )"
   ]
  },
  {
   "cell_type": "code",
   "execution_count": 20,
   "metadata": {},
   "outputs": [],
   "source": [
    "model.save('model_v1_2.h5')"
   ]
  },
  {
   "cell_type": "code",
   "execution_count": 21,
   "metadata": {},
   "outputs": [
    {
     "data": {
      "text/plain": [
       "dict_keys(['loss', 'accuracy'])"
      ]
     },
     "execution_count": 21,
     "metadata": {},
     "output_type": "execute_result"
    }
   ],
   "source": [
    "model_history.history.keys()"
   ]
  },
  {
   "cell_type": "code",
   "execution_count": 22,
   "metadata": {},
   "outputs": [
    {
     "data": {
      "text/plain": [
       "[<matplotlib.lines.Line2D at 0x222569aa2b0>]"
      ]
     },
     "execution_count": 22,
     "metadata": {},
     "output_type": "execute_result"
    },
    {
     "data": {
      "image/png": "[encoded data removed]",
      "text/plain": [
       "<Figure size 432x288 with 1 Axes>"
      ]
     },
     "metadata": {
      "needs_background": "light"
     },
     "output_type": "display_data"
    }
   ],
   "source": [
    "plt.plot(model_history.history['accuracy'])"
   ]
  },
  {
   "cell_type": "code",
   "execution_count": 23,
   "metadata": {},
   "outputs": [
    {
     "data": {
      "text/plain": [
       "[<matplotlib.lines.Line2D at 0x222569fa880>]"
      ]
     },
     "execution_count": 23,
     "metadata": {},
     "output_type": "execute_result"
    },
    {
     "data": {
      "image/png": "[encoded data removed]",
      "text/plain": [
       "<Figure size 432x288 with 1 Axes>"
      ]
     },
     "metadata": {
      "needs_background": "light"
     },
     "output_type": "display_data"
    }
   ],
   "source": [
    "plt.plot(model_history.history['loss'])"
   ]
  },
  {
   "cell_type": "code",
   "execution_count": null,
   "metadata": {},
   "outputs": [],
   "source": []
  }
 ],
 "metadata": {
  "kernelspec": {
   "display_name": "Python 3",
   "language": "python",
   "name": "python3"
  },
  "language_info": {
   "codemirror_mode": {
    "name": "ipython",
    "version": 3
   },
   "file_extension": ".py",
   "mimetype": "text/x-python",
   "name": "python",
   "nbconvert_exporter": "python",
   "pygments_lexer": "ipython3",
   "version": "3.8.5"
  }
 },
 "nbformat": 4,
 "nbformat_minor": 4
}
